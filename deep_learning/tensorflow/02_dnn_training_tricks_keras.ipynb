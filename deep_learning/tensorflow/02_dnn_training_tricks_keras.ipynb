{
 "cells": [
  {
   "cell_type": "code",
   "execution_count": 156,
   "metadata": {},
   "outputs": [],
   "source": [
    "%matplotlib inline\n",
    "import matplotlib as mpl\n",
    "import matplotlib.pyplot as plt\n",
    "mpl.rc('axes', labelsize=14)\n",
    "mpl.rc('xtick', labelsize=12)\n",
    "mpl.rc('ytick', labelsize=12)"
   ]
  },
  {
   "cell_type": "code",
   "execution_count": 157,
   "metadata": {},
   "outputs": [
    {
     "name": "stdout",
     "output_type": "stream",
     "text": [
      "sys.version_info(major=3, minor=7, micro=3, releaselevel='final', serial=0)\n",
      "0.21.3\n",
      "2.0.0\n",
      "sys.version_info > (3,5): True\n"
     ]
    }
   ],
   "source": [
    "import os\n",
    "import sys\n",
    "import numpy as np\n",
    "import sklearn\n",
    "import tensorflow as tf\n",
    "from tensorflow import keras\n",
    "\n",
    "print(sys.version_info)\n",
    "print(sklearn.__version__)\n",
    "print(tf.__version__)\n",
    "print(f\"sys.version_info > (3,5): {sys.version_info > (3,5)}\")\n",
    "np.random.seed(42)"
   ]
  },
  {
   "cell_type": "markdown",
   "metadata": {},
   "source": [
    "# 参数初始化"
   ]
  },
  {
   "cell_type": "markdown",
   "metadata": {},
   "source": [
    "## Xavier and He Initialization 参数初始化"
   ]
  },
  {
   "cell_type": "markdown",
   "metadata": {},
   "source": [
    "Initialization | Activation functions | σ² (Normal)\n",
    "--|--|--\n",
    "Glorot | None, tanh, logistic, softmax | $1/fan_{avg}$\n",
    "He | ReLU and variants | $2/fan_{in}$\n",
    "LeCun | SELU | $1/fan_{in}$\n",
    "\n",
    "---\n",
    "The number of inputs and neurons: $fan_{in}$ and $fan_{out}$\n",
    "\n",
    "$fan_{avg} = ( fan_{in} + fan_{out} )/ 2 $"
   ]
  },
  {
   "cell_type": "code",
   "execution_count": 4,
   "metadata": {
    "scrolled": true
   },
   "outputs": [
    {
     "data": {
      "text/plain": [
       "['Constant',\n",
       " 'GlorotNormal',\n",
       " 'GlorotUniform',\n",
       " 'Identity',\n",
       " 'Initializer',\n",
       " 'Ones',\n",
       " 'Orthogonal',\n",
       " 'RandomNormal',\n",
       " 'RandomUniform',\n",
       " 'TruncatedNormal',\n",
       " 'VarianceScaling',\n",
       " 'Zeros',\n",
       " 'constant',\n",
       " 'deserialize',\n",
       " 'get',\n",
       " 'glorot_normal',\n",
       " 'glorot_uniform',\n",
       " 'he_normal',\n",
       " 'he_uniform',\n",
       " 'identity',\n",
       " 'lecun_normal',\n",
       " 'lecun_uniform',\n",
       " 'ones',\n",
       " 'orthogonal',\n",
       " 'serialize',\n",
       " 'zeros']"
      ]
     },
     "execution_count": 4,
     "metadata": {},
     "output_type": "execute_result"
    }
   ],
   "source": [
    "# 参数初始化方案\n",
    "[name for name in dir(keras.initializers) if not name.startswith(\"_\")]"
   ]
  },
  {
   "cell_type": "code",
   "execution_count": 5,
   "metadata": {},
   "outputs": [
    {
     "data": {
      "text/plain": [
       "<tensorflow.python.keras.layers.core.Dense at 0x109f33c88>"
      ]
     },
     "execution_count": 5,
     "metadata": {},
     "output_type": "execute_result"
    }
   ],
   "source": [
    "keras.layers.Dense(10, activation=\"relu\", kernel_initializer=\"he_normal\")"
   ]
  },
  {
   "cell_type": "code",
   "execution_count": 6,
   "metadata": {},
   "outputs": [
    {
     "data": {
      "text/plain": [
       "<tensorflow.python.keras.layers.core.Dense at 0x13c915550>"
      ]
     },
     "execution_count": 6,
     "metadata": {},
     "output_type": "execute_result"
    }
   ],
   "source": [
    "init = keras.initializers.VarianceScaling(scale=2., mode='fan_avg',\n",
    "                                          distribution='uniform')\n",
    "keras.layers.Dense(10, activation=\"relu\", kernel_initializer=init)"
   ]
  },
  {
   "cell_type": "code",
   "execution_count": 7,
   "metadata": {
    "scrolled": true
   },
   "outputs": [
    {
     "data": {
      "text/plain": [
       "['deserialize',\n",
       " 'elu',\n",
       " 'exponential',\n",
       " 'get',\n",
       " 'hard_sigmoid',\n",
       " 'linear',\n",
       " 'relu',\n",
       " 'selu',\n",
       " 'serialize',\n",
       " 'sigmoid',\n",
       " 'softmax',\n",
       " 'softplus',\n",
       " 'softsign',\n",
       " 'tanh']"
      ]
     },
     "execution_count": 7,
     "metadata": {},
     "output_type": "execute_result"
    }
   ],
   "source": [
    "# 激活函数\n",
    "[m for m in dir(keras.activations) if not m.startswith(\"_\")]"
   ]
  },
  {
   "cell_type": "code",
   "execution_count": 9,
   "metadata": {},
   "outputs": [
    {
     "data": {
      "text/plain": [
       "['LeakyReLU', 'PReLU', 'ReLU', 'ThresholdedReLU']"
      ]
     },
     "execution_count": 9,
     "metadata": {},
     "output_type": "execute_result"
    }
   ],
   "source": [
    "[m for m in dir(keras.layers) if \"relu\" in m.lower()]"
   ]
  },
  {
   "cell_type": "markdown",
   "metadata": {},
   "source": [
    "# 读取数据fashion_mnist"
   ]
  },
  {
   "cell_type": "code",
   "execution_count": 8,
   "metadata": {},
   "outputs": [],
   "source": [
    "(X_train_full, y_train_full), (X_test, y_test) = keras.datasets.fashion_mnist.load_data()\n",
    "X_train_full = X_train_full / 255.0\n",
    "X_test = X_test / 255.0\n",
    "X_valid, X_train = X_train_full[:5000], X_train_full[5000:]\n",
    "y_valid, y_train = y_train_full[:5000], y_train_full[5000:]"
   ]
  },
  {
   "cell_type": "markdown",
   "metadata": {},
   "source": [
    "# 不同激活函数"
   ]
  },
  {
   "cell_type": "markdown",
   "metadata": {},
   "source": [
    "### LeakyReLU\n",
    "\n",
    "$LeakyReLU (z) = max({\\alpha}z, z)$"
   ]
  },
  {
   "cell_type": "code",
   "execution_count": 12,
   "metadata": {},
   "outputs": [],
   "source": [
    "tf.random.set_seed(42)\n",
    "np.random.seed(42)\n",
    "model = keras.models.Sequential([\n",
    "    keras.layers.Flatten(input_shape=[28, 28]),\n",
    "    keras.layers.Dense(300, kernel_initializer=\"he_normal\"), \n",
    "    keras.layers.LeakyReLU(),\n",
    "    keras.layers.Dense(100, kernel_initializer=\"he_normal\"), \n",
    "    keras.layers.LeakyReLU(),\n",
    "    keras.layers.Dense(10, activation=\"softmax\")\n",
    "])"
   ]
  },
  {
   "cell_type": "code",
   "execution_count": 17,
   "metadata": {},
   "outputs": [],
   "source": [
    "model.compile(loss=\"sparse_categorical_crossentropy\",\n",
    "              optimizer=keras.optimizers.SGD(lr=1e-3),\n",
    "              metrics=[\"accuracy\"])\n",
    "\n",
    "# set(y_train) # {0, 1, 2, 3, 4, 5, 6, 7, 8, 9}\n",
    "# sparse_categorical_crossentropy: sparse target\n",
    "# categorical_crossentropy: after one-hot encoding"
   ]
  },
  {
   "cell_type": "code",
   "execution_count": 18,
   "metadata": {
    "scrolled": true
   },
   "outputs": [
    {
     "name": "stdout",
     "output_type": "stream",
     "text": [
      "Train on 55000 samples, validate on 5000 samples\n",
      "Epoch 1/10\n",
      "55000/55000 [==============================] - 5s 89us/sample - loss: 1.2806 - accuracy: 0.6250 - val_loss: 0.8882 - val_accuracy: 0.7150\n",
      "Epoch 2/10\n",
      "55000/55000 [==============================] - 4s 79us/sample - loss: 0.7954 - accuracy: 0.7373 - val_loss: 0.7135 - val_accuracy: 0.7648\n",
      "Epoch 3/10\n",
      "55000/55000 [==============================] - 5s 82us/sample - loss: 0.6816 - accuracy: 0.7726 - val_loss: 0.6355 - val_accuracy: 0.7882\n",
      "Epoch 4/10\n",
      "55000/55000 [==============================] - 4s 81us/sample - loss: 0.6215 - accuracy: 0.7936 - val_loss: 0.5922 - val_accuracy: 0.8014\n",
      "Epoch 5/10\n",
      "55000/55000 [==============================] - 4s 69us/sample - loss: 0.5830 - accuracy: 0.8082 - val_loss: 0.5596 - val_accuracy: 0.8170\n",
      "Epoch 6/10\n",
      "55000/55000 [==============================] - 4s 67us/sample - loss: 0.5553 - accuracy: 0.8156 - val_loss: 0.5338 - val_accuracy: 0.8234\n",
      "Epoch 7/10\n",
      "55000/55000 [==============================] - 4s 64us/sample - loss: 0.5340 - accuracy: 0.8221 - val_loss: 0.5157 - val_accuracy: 0.8314\n",
      "Epoch 8/10\n",
      "55000/55000 [==============================] - 4s 65us/sample - loss: 0.5172 - accuracy: 0.8266 - val_loss: 0.5035 - val_accuracy: 0.8342\n",
      "Epoch 9/10\n",
      "55000/55000 [==============================] - 3s 63us/sample - loss: 0.5036 - accuracy: 0.8297 - val_loss: 0.4950 - val_accuracy: 0.8356\n",
      "Epoch 10/10\n",
      "55000/55000 [==============================] - 3s 62us/sample - loss: 0.4922 - accuracy: 0.8323 - val_loss: 0.4797 - val_accuracy: 0.8422\n"
     ]
    }
   ],
   "source": [
    "history = model.fit(X_train, y_train, epochs=10,\n",
    "                    validation_data=(X_valid, y_valid))"
   ]
  },
  {
   "cell_type": "markdown",
   "metadata": {},
   "source": [
    "### PReLU & RReLU\n",
    "\n",
    "- parametric leaky ReLU (PReLU): 参数$\\alpha$不再是超参，可以被BP更新学习。大数据集OK，小数据集会overfitting\n",
    "- randomized leaky ReLU (RReLU): 参数$\\alpha$训练阶段是在一个范围随机选取的，在测试阶段会固定在一个均值\n",
    "\n",
    "\n"
   ]
  },
  {
   "cell_type": "code",
   "execution_count": 19,
   "metadata": {},
   "outputs": [],
   "source": [
    "tf.random.set_seed(42)\n",
    "np.random.seed(42)\n",
    "\n",
    "model = keras.models.Sequential([\n",
    "    keras.layers.Flatten(input_shape=[28, 28]),\n",
    "    keras.layers.Dense(300, kernel_initializer=\"he_normal\"),\n",
    "    keras.layers.PReLU(),\n",
    "    keras.layers.Dense(100, kernel_initializer=\"he_normal\"),\n",
    "    keras.layers.PReLU(),\n",
    "    keras.layers.Dense(10, activation=\"softmax\")\n",
    "])"
   ]
  },
  {
   "cell_type": "code",
   "execution_count": 20,
   "metadata": {},
   "outputs": [],
   "source": [
    "model.compile(loss=\"sparse_categorical_crossentropy\",\n",
    "              optimizer=keras.optimizers.SGD(lr=1e-3),\n",
    "              metrics=[\"accuracy\"])"
   ]
  },
  {
   "cell_type": "code",
   "execution_count": 21,
   "metadata": {},
   "outputs": [
    {
     "name": "stdout",
     "output_type": "stream",
     "text": [
      "Train on 55000 samples, validate on 5000 samples\n",
      "Epoch 1/3\n",
      "55000/55000 [==============================] - 6s 102us/sample - loss: 1.3470 - accuracy: 0.6225 - val_loss: 0.9268 - val_accuracy: 0.7200\n",
      "Epoch 2/3\n",
      "55000/55000 [==============================] - 5s 92us/sample - loss: 0.8208 - accuracy: 0.7357 - val_loss: 0.7322 - val_accuracy: 0.7640\n",
      "Epoch 3/3\n",
      "55000/55000 [==============================] - 5s 87us/sample - loss: 0.6972 - accuracy: 0.7697 - val_loss: 0.6494 - val_accuracy: 0.7868\n"
     ]
    }
   ],
   "source": [
    "history = model.fit(X_train, y_train, epochs=3,\n",
    "                    validation_data=(X_valid, y_valid))"
   ]
  },
  {
   "cell_type": "markdown",
   "metadata": {},
   "source": [
    "### ELU\n",
    "\n",
    "exponential linear unit (ELU)\n",
    "$$\n",
    "\\operatorname{ELU}_{\\alpha}(z)=\\left\\{\\begin{array}{ll}{\\alpha(\\exp (z)-1)} & {\\text { if } z<0} \\\\ {z} & {\\text { if } z \\geq 0}\\end{array}\\right.\n",
    "$$\n",
    "\n",
    "ELU计算比RELU更慢，但它收敛更快，在训练阶段可以在一定程度上弥补其计算慢的问题。但在预测（test）阶段，ELU还是会慢一点。"
   ]
  },
  {
   "cell_type": "code",
   "execution_count": 154,
   "metadata": {},
   "outputs": [
    {
     "data": {
      "image/png": "[encoded data removed]",
      "text/plain": [
       "<Figure size 432x288 with 1 Axes>"
      ]
     },
     "metadata": {
      "needs_background": "light"
     },
     "output_type": "display_data"
    }
   ],
   "source": [
    "def elu(z, alpha=1):\n",
    "    return np.where(z < 0, alpha * (np.exp(z) - 1), z)\n",
    "\n",
    "z = np.linspace(-5,5,100)\n",
    "plt.plot(z, elu(z), \"b-\", linewidth=2)\n",
    "plt.plot([-5, 5], [0, 0], 'k-')\n",
    "plt.plot([-5, 5], [-1, -1], 'k--')\n",
    "plt.plot([0, 0], [-2.2, 3.2], 'k-')\n",
    "plt.grid(True)\n",
    "plt.title(r\"ELU activation function ($\\alpha=1$)\", fontsize=14)\n",
    "plt.axis([-5, 5, -2.2, 3.2])\n",
    "plt.show()"
   ]
  },
  {
   "cell_type": "code",
   "execution_count": 20,
   "metadata": {},
   "outputs": [
    {
     "data": {
      "text/plain": [
       "<tensorflow.python.keras.layers.core.Dense at 0x10dca50f0>"
      ]
     },
     "execution_count": 20,
     "metadata": {},
     "output_type": "execute_result"
    }
   ],
   "source": [
    "keras.layers.Dense(10, activation=\"elu\")"
   ]
  },
  {
   "cell_type": "markdown",
   "metadata": {},
   "source": [
    "### SELU"
   ]
  },
  {
   "cell_type": "markdown",
   "metadata": {},
   "source": [
    "<b>SELU activation function - Scaled ELU</b>\n",
    "\n",
    "During training, <b>a neural network composed exclusively of a stack of dense layers using the SELU activation function and LeCun initialization will self-normalize</b>: the output of each layer will tend to preserve the same mean and variance during training, which solves the vanishing/exploding gradients problem. \n",
    "\n",
    "As a result, this activation function outperforms the other activation functions very significantly for such neural nets, so you should really try it out. Unfortunately, the self-normalizing property of the SELU activation function is <b>easily broken</b>: you cannot use L1 or L2 regularization, regular dropout, max-norm, skip connections or other non-sequential topologies (so recurrent neural networks won't self-normalize). \n",
    "\n",
    "However, in practice it works quite well with sequential CNNs. If you break self-normalization, SELU will not necessarily outperform other activation functions."
   ]
  },
  {
   "cell_type": "code",
   "execution_count": 25,
   "metadata": {},
   "outputs": [
    {
     "data": {
      "text/plain": [
       "<tensorflow.python.keras.layers.core.Dense at 0x158a45630>"
      ]
     },
     "execution_count": 25,
     "metadata": {},
     "output_type": "execute_result"
    }
   ],
   "source": [
    "keras.layers.Dense(10, activation=\"selu\",\n",
    "                   kernel_initializer=\"lecun_normal\")"
   ]
  },
  {
   "cell_type": "code",
   "execution_count": 42,
   "metadata": {},
   "outputs": [
    {
     "name": "stdout",
     "output_type": "stream",
     "text": [
      "Train on 55000 samples, validate on 5000 samples\n",
      "Epoch 1/5\n",
      "55000/55000 [==============================] - 38s 695us/sample - loss: 1.2909 - accuracy: 0.5123 - val_loss: 0.8106 - val_accuracy: 0.7160\n",
      "Epoch 2/5\n",
      "55000/55000 [==============================] - 33s 594us/sample - loss: 0.7568 - accuracy: 0.7267 - val_loss: 0.6793 - val_accuracy: 0.7586\n",
      "Epoch 3/5\n",
      "55000/55000 [==============================] - 31s 564us/sample - loss: 0.6682 - accuracy: 0.7643 - val_loss: 1.0645 - val_accuracy: 0.6134\n",
      "Epoch 4/5\n",
      "55000/55000 [==============================] - 28s 514us/sample - loss: 0.7040 - accuracy: 0.7513 - val_loss: 0.6331 - val_accuracy: 0.7852\n",
      "Epoch 5/5\n",
      "55000/55000 [==============================] - 28s 510us/sample - loss: 0.5550 - accuracy: 0.8065 - val_loss: 0.5538 - val_accuracy: 0.8086\n"
     ]
    }
   ],
   "source": [
    "# SELU\n",
    "# A neural net for Fashion MNIST with 100 hidden layers, using the SELU activation function:\n",
    "np.random.seed(42)\n",
    "tf.random.set_seed(42)\n",
    "model = keras.models.Sequential()\n",
    "model.add(keras.layers.Flatten(input_shape=[28, 28]))\n",
    "model.add(keras.layers.Dense(300, activation=\"selu\",\n",
    "                             kernel_initializer=\"lecun_normal\"))\n",
    "for layer in range(99):\n",
    "    model.add(keras.layers.Dense(100, activation=\"selu\",\n",
    "                                 kernel_initializer=\"lecun_normal\"))\n",
    "model.add(keras.layers.Dense(10, activation=\"softmax\"))\n",
    "\n",
    "model.compile(loss=\"sparse_categorical_crossentropy\",\n",
    "              optimizer=keras.optimizers.SGD(lr=1e-3),\n",
    "              metrics=[\"accuracy\"])\n",
    "\n",
    "# Do not forget to scale the inputs to mean 0 and standard deviation 1:\n",
    "pixel_means = X_train.mean(axis=0, keepdims=True)\n",
    "pixel_stds = X_train.std(axis=0, keepdims=True)\n",
    "X_train_scaled = (X_train - pixel_means) / pixel_stds\n",
    "X_valid_scaled = (X_valid - pixel_means) / pixel_stds\n",
    "X_test_scaled = (X_test - pixel_means) / pixel_stds\n",
    "history = model.fit(X_train_scaled, y_train, epochs=5,\n",
    "                    validation_data=(X_valid_scaled, y_valid))"
   ]
  },
  {
   "cell_type": "markdown",
   "metadata": {},
   "source": [
    "Now look at what happens if we try to use the ReLU activation function instead:"
   ]
  },
  {
   "cell_type": "code",
   "execution_count": 43,
   "metadata": {},
   "outputs": [
    {
     "name": "stdout",
     "output_type": "stream",
     "text": [
      "Train on 55000 samples, validate on 5000 samples\n",
      "Epoch 1/5\n",
      "55000/55000 [==============================] - 19s 340us/sample - loss: 1.7730 - accuracy: 0.2799 - val_loss: 1.2295 - val_accuracy: 0.5052\n",
      "Epoch 2/5\n",
      "55000/55000 [==============================] - 16s 282us/sample - loss: 1.1460 - accuracy: 0.5199 - val_loss: 0.9113 - val_accuracy: 0.6396\n",
      "Epoch 3/5\n",
      "55000/55000 [==============================] - 16s 282us/sample - loss: 0.9797 - accuracy: 0.5998 - val_loss: 0.8716 - val_accuracy: 0.6720\n",
      "Epoch 4/5\n",
      "55000/55000 [==============================] - 15s 280us/sample - loss: 0.8684 - accuracy: 0.6485 - val_loss: 0.7598 - val_accuracy: 0.7070\n",
      "Epoch 5/5\n",
      "55000/55000 [==============================] - 15s 269us/sample - loss: 0.8288 - accuracy: 0.6652 - val_loss: 0.7640 - val_accuracy: 0.6668\n"
     ]
    }
   ],
   "source": [
    "# RELU\n",
    "np.random.seed(42)\n",
    "tf.random.set_seed(42)\n",
    "\n",
    "model = keras.models.Sequential()\n",
    "model.add(keras.layers.Flatten(input_shape=[28, 28]))\n",
    "model.add(keras.layers.Dense(300, activation=\"relu\", kernel_initializer=\"he_normal\"))\n",
    "for layer in range(99):\n",
    "    model.add(keras.layers.Dense(100, activation=\"relu\", kernel_initializer=\"he_normal\"))\n",
    "model.add(keras.layers.Dense(10, activation=\"softmax\"))\n",
    "\n",
    "model.compile(loss=\"sparse_categorical_crossentropy\",\n",
    "              optimizer=keras.optimizers.SGD(lr=1e-3),\n",
    "              metrics=[\"accuracy\"])\n",
    "\n",
    "history = model.fit(X_train_scaled, y_train, epochs=5,\n",
    "                    validation_data=(X_valid_scaled, y_valid))"
   ]
  },
  {
   "cell_type": "markdown",
   "metadata": {},
   "source": [
    "Not great at all, we suffered from the vanishing/exploding gradients problem.\n",
    "\n",
    "用`relu`相比于`selu`效果就一般了。"
   ]
  },
  {
   "cell_type": "markdown",
   "metadata": {},
   "source": [
    "# Batch Normalization"
   ]
  },
  {
   "cell_type": "markdown",
   "metadata": {},
   "source": [
    "\n",
    "$$\n",
    "\\begin{aligned} \\boldsymbol{\\mu}_{B} &=\\frac{1}{m_{B}} \\sum_{i=1}^{m_{B}} \\mathbf{x}^{(i)} \\\\ \\boldsymbol{\\sigma}_{B}^{2} &=\\frac{1}{m_{B}} \\sum_{i=1}^{m_{B}}\\left(\\mathbf{x}^{(i)}-\\boldsymbol{\\mu}_{B}\\right)^{2} \\\\ \\widehat{\\mathbf{x}}^{(i)} &=\\frac{\\mathbf{x}^{(i)}-\\boldsymbol{\\mu}_{B}}{\\sqrt{\\boldsymbol{\\sigma}_{B}^{2}+\\varepsilon}} \\\\ \\mathbf{z}^{(i)} &=\\boldsymbol{\\gamma} \\otimes \\widehat{\\mathbf{x}}^{(i)}+\\boldsymbol{\\beta} \\end{aligned}\n",
    "$$\n",
    "\n",
    "BN: 经常在activation function之前使用。其中$m_{B}$是mini-batch size，最后防止所有的输入都被归一化到标准的正态分布，故加上$\\mathbf{z}^{(i)}=\\gamma \\otimes \\widehat{\\mathbf{x}}^{(i)}+\\boldsymbol{\\beta}$，其实$\\gamma$和$\\beta$是两个可学习的参数。\n",
    "\n",
    "用了BN会更慢。网络如果很深的话，BN的效果也许会很显著。\n"
   ]
  },
  {
   "cell_type": "code",
   "execution_count": 48,
   "metadata": {},
   "outputs": [],
   "source": [
    "model = keras.models.Sequential([\n",
    "    keras.layers.Flatten(input_shape=[28, 28]),\n",
    "    keras.layers.BatchNormalization(),  \n",
    "    keras.layers.Dense(300, activation=\"relu\"),\n",
    "    keras.layers.BatchNormalization(),\n",
    "    keras.layers.Dense(100, activation=\"relu\"),\n",
    "    keras.layers.BatchNormalization(),\n",
    "    keras.layers.Dense(10, activation=\"softmax\")\n",
    "])"
   ]
  },
  {
   "cell_type": "code",
   "execution_count": 49,
   "metadata": {},
   "outputs": [
    {
     "name": "stdout",
     "output_type": "stream",
     "text": [
      "Model: \"sequential_14\"\n",
      "_________________________________________________________________\n",
      "Layer (type)                 Output Shape              Param #   \n",
      "=================================================================\n",
      "flatten_14 (Flatten)         (None, 784)               0         \n",
      "_________________________________________________________________\n",
      "batch_normalization_6 (Batch (None, 784)               3136      \n",
      "_________________________________________________________________\n",
      "dense_730 (Dense)            (None, 300)               235500    \n",
      "_________________________________________________________________\n",
      "batch_normalization_7 (Batch (None, 300)               1200      \n",
      "_________________________________________________________________\n",
      "dense_731 (Dense)            (None, 100)               30100     \n",
      "_________________________________________________________________\n",
      "batch_normalization_8 (Batch (None, 100)               400       \n",
      "_________________________________________________________________\n",
      "dense_732 (Dense)            (None, 10)                1010      \n",
      "=================================================================\n",
      "Total params: 271,346\n",
      "Trainable params: 268,978\n",
      "Non-trainable params: 2,368\n",
      "_________________________________________________________________\n"
     ]
    }
   ],
   "source": [
    "model.summary() # 3136 = 784 * 4 (γ, β, μ, σ), 其中μ, σ是moving averages，不受backpropagation影响，non-trainable"
   ]
  },
  {
   "cell_type": "code",
   "execution_count": 50,
   "metadata": {},
   "outputs": [
    {
     "data": {
      "text/plain": [
       "[('batch_normalization_6/gamma:0', True),\n",
       " ('batch_normalization_6/beta:0', True),\n",
       " ('batch_normalization_6/moving_mean:0', False),\n",
       " ('batch_normalization_6/moving_variance:0', False)]"
      ]
     },
     "execution_count": 50,
     "metadata": {},
     "output_type": "execute_result"
    }
   ],
   "source": [
    "# 第一个BN层的参数细节：gamma和beta是trainable的，moving_mean和moving_variance是non-trainable的\n",
    "bn1 = model.layers[1]\n",
    "[(var.name, var.trainable) for var in bn1.variables]"
   ]
  },
  {
   "cell_type": "code",
   "execution_count": 51,
   "metadata": {},
   "outputs": [
    {
     "data": {
      "text/plain": [
       "[<tf.Operation 'cond/Identity' type=Identity>,\n",
       " <tf.Operation 'cond_1/Identity' type=Identity>]"
      ]
     },
     "execution_count": 51,
     "metadata": {},
     "output_type": "execute_result"
    }
   ],
   "source": [
    "bn1.updates"
   ]
  },
  {
   "cell_type": "code",
   "execution_count": 52,
   "metadata": {},
   "outputs": [],
   "source": [
    "model.compile(loss=\"sparse_categorical_crossentropy\",\n",
    "              optimizer=keras.optimizers.SGD(lr=1e-3),\n",
    "              metrics=[\"accuracy\"])"
   ]
  },
  {
   "cell_type": "code",
   "execution_count": 53,
   "metadata": {
    "scrolled": true
   },
   "outputs": [
    {
     "name": "stdout",
     "output_type": "stream",
     "text": [
      "Train on 55000 samples, validate on 5000 samples\n",
      "Epoch 1/3\n",
      "55000/55000 [==============================] - 8s 150us/sample - loss: 0.8732 - accuracy: 0.7134 - val_loss: 0.5612 - val_accuracy: 0.8120\n",
      "Epoch 2/3\n",
      "55000/55000 [==============================] - 7s 121us/sample - loss: 0.5831 - accuracy: 0.8000 - val_loss: 0.4784 - val_accuracy: 0.8398\n",
      "Epoch 3/3\n",
      "55000/55000 [==============================] - 7s 127us/sample - loss: 0.5224 - accuracy: 0.8189 - val_loss: 0.4384 - val_accuracy: 0.8540\n"
     ]
    }
   ],
   "source": [
    "history = model.fit(X_train, y_train, epochs=3,\n",
    "                    validation_data=(X_valid, y_valid))"
   ]
  },
  {
   "cell_type": "markdown",
   "metadata": {},
   "source": [
    "**关于BN层加在激活函数之前或者之后存在争议。**\n",
    ">Sometimes applying BN before the activation function works better (there's a debate on this topic). Moreover, the layer before a `BatchNormalization` layer does not need to have bias terms, since the `BatchNormalization` layer some as well, it would be a waste of parameters, so you can set `use_bias=False` when creating those layers:"
   ]
  },
  {
   "cell_type": "code",
   "execution_count": 57,
   "metadata": {},
   "outputs": [],
   "source": [
    "# 也可以把BN层放在激活函数之前，这也是论文和NG推荐的做法\n",
    "model = keras.models.Sequential([\n",
    "    keras.layers.Flatten(input_shape=[28, 28]),\n",
    "    keras.layers.BatchNormalization(),\n",
    "    keras.layers.Dense(300, use_bias=False), # BN有bias项，所以可以在这一层设置：use_bias=False\n",
    "    keras.layers.BatchNormalization(),\n",
    "    keras.layers.Activation(\"relu\"),\n",
    "    keras.layers.Dense(100, use_bias=False),\n",
    "    keras.layers.Activation(\"relu\"),\n",
    "    keras.layers.BatchNormalization(),\n",
    "    keras.layers.Dense(10, activation=\"softmax\")\n",
    "])"
   ]
  },
  {
   "cell_type": "code",
   "execution_count": 58,
   "metadata": {},
   "outputs": [],
   "source": [
    "model.compile(loss=\"sparse_categorical_crossentropy\",\n",
    "              optimizer=keras.optimizers.SGD(lr=1e-3),\n",
    "              metrics=[\"accuracy\"])"
   ]
  },
  {
   "cell_type": "code",
   "execution_count": 59,
   "metadata": {},
   "outputs": [
    {
     "name": "stdout",
     "output_type": "stream",
     "text": [
      "Train on 55000 samples, validate on 5000 samples\n",
      "Epoch 1/3\n",
      "55000/55000 [==============================] - 7s 121us/sample - loss: 0.8760 - accuracy: 0.7068 - val_loss: 0.5786 - val_accuracy: 0.8062\n",
      "Epoch 2/3\n",
      "55000/55000 [==============================] - 5s 88us/sample - loss: 0.5850 - accuracy: 0.7988 - val_loss: 0.4946 - val_accuracy: 0.8358\n",
      "Epoch 3/3\n",
      "55000/55000 [==============================] - 5s 90us/sample - loss: 0.5219 - accuracy: 0.8175 - val_loss: 0.4565 - val_accuracy: 0.8428\n"
     ]
    }
   ],
   "source": [
    "history = model.fit(X_train, y_train, epochs=3,\n",
    "                    validation_data=(X_valid, y_valid))"
   ]
  },
  {
   "cell_type": "markdown",
   "metadata": {},
   "source": [
    "# Gradient Clipping"
   ]
  },
  {
   "cell_type": "markdown",
   "metadata": {},
   "source": [
    "一般在RNN中用的多，在一般的DNN中BN足矣。\n",
    "\n",
    "All Keras optimizers accept `clipnorm` or `clipvalue` arguments:"
   ]
  },
  {
   "cell_type": "code",
   "execution_count": 44,
   "metadata": {},
   "outputs": [],
   "source": [
    "optimizer = keras.optimizers.SGD(clipvalue=1.0) \n",
    "# 梯度方向会改变，比如[0.9, 100.0]=>[0.9, 1.0]，为了保持方向，可用clipnorm\n",
    "optimizer = keras.optimizers.SGD(clipnorm=1.0) "
   ]
  },
  {
   "cell_type": "markdown",
   "metadata": {},
   "source": [
    "## Reusing Pretrained Layers"
   ]
  },
  {
   "cell_type": "markdown",
   "metadata": {},
   "source": [
    "<img src=pics/reusing_pretrained_layers.png width=400>"
   ]
  },
  {
   "cell_type": "markdown",
   "metadata": {},
   "source": [
    "### Reusing a Keras model"
   ]
  },
  {
   "cell_type": "markdown",
   "metadata": {},
   "source": [
    "迁移学习：\n",
    "Let's split the fashion MNIST training set in two:\n",
    "* `X_train_A`: all images of all items except for sandals and shirts (classes 5 and 6).\n",
    "* `X_train_B`: a much smaller training set of just the first 200 images of sandals or shirts.\n",
    "\n",
    "The validation set and the test set are also split this way, but without restricting the number of images.\n",
    "\n",
    "We will train a model on set A (classification task with 8 classes), and try to reuse it to tackle set B (binary classification). We hope to transfer a little bit of knowledge from task A to task B, since classes in set A (sneakers, ankle boots, coats, t-shirts, etc.) are somewhat similar to classes in set B (sandals and shirts). However, since we are using `Dense` layers, only patterns that occur at the same location can be reused (in contrast, convolutional layers will transfer much better, since learned patterns can be detected anywhere on the image, as we will see in the CNN chapter)."
   ]
  },
  {
   "cell_type": "code",
   "execution_count": 62,
   "metadata": {},
   "outputs": [],
   "source": [
    "def split_dataset(X, y):\n",
    "    y_5_or_6 = (y == 5) | (y == 6) # sandals or shirts\n",
    "    y_A = y[~y_5_or_6]\n",
    "    y_A[y_A > 6] -= 2 # class indices 7, 8, 9 should be moved to 5, 6, 7\n",
    "    y_B = (y[y_5_or_6] == 6).astype(np.float32) # binary classification task: is it a shirt (class 6)?\n",
    "    return ((X[~y_5_or_6], y_A),\n",
    "            (X[y_5_or_6], y_B))\n",
    "\n",
    "(X_train_A, y_train_A), (X_train_B, y_train_B) = split_dataset(X_train, y_train)\n",
    "(X_valid_A, y_valid_A), (X_valid_B, y_valid_B) = split_dataset(X_valid, y_valid)\n",
    "(X_test_A, y_test_A), (X_test_B, y_test_B) = split_dataset(X_test, y_test)\n",
    "X_train_B = X_train_B[:200]\n",
    "y_train_B = y_train_B[:200]"
   ]
  },
  {
   "cell_type": "code",
   "execution_count": 63,
   "metadata": {},
   "outputs": [
    {
     "data": {
      "text/plain": [
       "(43986, 28, 28)"
      ]
     },
     "execution_count": 63,
     "metadata": {},
     "output_type": "execute_result"
    }
   ],
   "source": [
    "X_train_A.shape"
   ]
  },
  {
   "cell_type": "code",
   "execution_count": 64,
   "metadata": {},
   "outputs": [
    {
     "data": {
      "text/plain": [
       "(200, 28, 28)"
      ]
     },
     "execution_count": 64,
     "metadata": {},
     "output_type": "execute_result"
    }
   ],
   "source": [
    "X_train_B.shape"
   ]
  },
  {
   "cell_type": "code",
   "execution_count": 65,
   "metadata": {},
   "outputs": [
    {
     "data": {
      "text/plain": [
       "array([4, 0, 5, 7, 7, 7, 4, 4, 3, 4, 0, 1, 6, 3, 4, 3, 2, 6, 5, 3, 4, 5,\n",
       "       1, 3, 4, 2, 0, 6, 7, 1], dtype=uint8)"
      ]
     },
     "execution_count": 65,
     "metadata": {},
     "output_type": "execute_result"
    }
   ],
   "source": [
    "y_train_A[:30]"
   ]
  },
  {
   "cell_type": "code",
   "execution_count": 66,
   "metadata": {},
   "outputs": [
    {
     "data": {
      "text/plain": [
       "array([1., 1., 0., 0., 0., 0., 1., 1., 1., 0., 0., 1., 1., 0., 0., 0., 0.,\n",
       "       0., 0., 1., 1., 0., 0., 1., 1., 0., 1., 1., 1., 1.], dtype=float32)"
      ]
     },
     "execution_count": 66,
     "metadata": {},
     "output_type": "execute_result"
    }
   ],
   "source": [
    "y_train_B[:30]"
   ]
  },
  {
   "cell_type": "code",
   "execution_count": 67,
   "metadata": {},
   "outputs": [],
   "source": [
    "tf.random.set_seed(42)\n",
    "np.random.seed(42)\n",
    "model_A = keras.models.Sequential()\n",
    "model_A.add(keras.layers.Flatten(input_shape=[28, 28]))\n",
    "for n_hidden in (300, 100, 50, 50, 50):\n",
    "    model_A.add(keras.layers.Dense(n_hidden, activation=\"selu\"))\n",
    "model_A.add(keras.layers.Dense(8, activation=\"softmax\")) # 输出层"
   ]
  },
  {
   "cell_type": "code",
   "execution_count": 68,
   "metadata": {},
   "outputs": [],
   "source": [
    "model_A.compile(loss=\"sparse_categorical_crossentropy\",\n",
    "                optimizer=keras.optimizers.SGD(lr=1e-3),\n",
    "                metrics=[\"accuracy\"])"
   ]
  },
  {
   "cell_type": "code",
   "execution_count": 69,
   "metadata": {},
   "outputs": [
    {
     "name": "stdout",
     "output_type": "stream",
     "text": [
      "Train on 43986 samples, validate on 4014 samples\n",
      "Epoch 1/5\n",
      "43986/43986 - 6s - loss: 0.5909 - accuracy: 0.8099 - val_loss: 0.3772 - val_accuracy: 0.8712\n",
      "Epoch 2/5\n",
      "43986/43986 - 4s - loss: 0.3521 - accuracy: 0.8792 - val_loss: 0.3395 - val_accuracy: 0.8779\n",
      "Epoch 3/5\n",
      "43986/43986 - 4s - loss: 0.3167 - accuracy: 0.8889 - val_loss: 0.3017 - val_accuracy: 0.8961\n",
      "Epoch 4/5\n",
      "43986/43986 - 4s - loss: 0.2970 - accuracy: 0.8967 - val_loss: 0.2859 - val_accuracy: 0.9026\n",
      "Epoch 5/5\n",
      "43986/43986 - 4s - loss: 0.2824 - accuracy: 0.9029 - val_loss: 0.2808 - val_accuracy: 0.9068\n"
     ]
    }
   ],
   "source": [
    "history = model_A.fit(X_train_A, y_train_A, epochs=5,verbose=2,\n",
    "                    validation_data=(X_valid_A, y_valid_A))"
   ]
  },
  {
   "cell_type": "code",
   "execution_count": 72,
   "metadata": {},
   "outputs": [],
   "source": [
    "model_A.save(\"model/my_model_A.h5\")"
   ]
  },
  {
   "cell_type": "code",
   "execution_count": 73,
   "metadata": {},
   "outputs": [],
   "source": [
    "model_B = keras.models.Sequential()\n",
    "model_B.add(keras.layers.Flatten(input_shape=[28, 28]))\n",
    "for n_hidden in (300, 100, 50, 50, 50):\n",
    "    model_B.add(keras.layers.Dense(n_hidden, activation=\"selu\"))\n",
    "model_B.add(keras.layers.Dense(1, activation=\"sigmoid\"))"
   ]
  },
  {
   "cell_type": "code",
   "execution_count": 74,
   "metadata": {},
   "outputs": [],
   "source": [
    "model_B.compile(loss=\"binary_crossentropy\",\n",
    "                optimizer=keras.optimizers.SGD(lr=1e-3),\n",
    "                metrics=[\"accuracy\"])"
   ]
  },
  {
   "cell_type": "code",
   "execution_count": 75,
   "metadata": {},
   "outputs": [
    {
     "name": "stdout",
     "output_type": "stream",
     "text": [
      "Train on 200 samples, validate on 986 samples\n",
      "Epoch 1/5\n",
      "200/200 [==============================] - 1s 6ms/sample - loss: 0.9545 - accuracy: 0.4600 - val_loss: 0.6655 - val_accuracy: 0.5385\n",
      "Epoch 2/5\n",
      "200/200 [==============================] - 0s 515us/sample - loss: 0.5899 - accuracy: 0.6900 - val_loss: 0.4785 - val_accuracy: 0.8519\n",
      "Epoch 3/5\n",
      "200/200 [==============================] - 0s 606us/sample - loss: 0.4512 - accuracy: 0.8800 - val_loss: 0.4098 - val_accuracy: 0.8945\n",
      "Epoch 4/5\n",
      "200/200 [==============================] - 0s 560us/sample - loss: 0.3871 - accuracy: 0.9100 - val_loss: 0.3666 - val_accuracy: 0.9128\n",
      "Epoch 5/5\n",
      "200/200 [==============================] - 0s 529us/sample - loss: 0.3438 - accuracy: 0.9250 - val_loss: 0.3315 - val_accuracy: 0.9300\n"
     ]
    }
   ],
   "source": [
    "history = model_B.fit(X_train_B, y_train_B, epochs=5,\n",
    "                      validation_data=(X_valid_B, y_valid_B))"
   ]
  },
  {
   "cell_type": "code",
   "execution_count": 78,
   "metadata": {},
   "outputs": [],
   "source": [
    "# 重新导入model_A，迁移学习\n",
    "model_A = keras.models.load_model(\"model/my_model_A.h5\")\n",
    "model_B_on_A = keras.models.Sequential(model_A.layers[:-1]) # 用model A输出层之前的所有层\n",
    "model_B_on_A.add(keras.layers.Dense(1, activation=\"sigmoid\"))"
   ]
  },
  {
   "cell_type": "code",
   "execution_count": 79,
   "metadata": {},
   "outputs": [],
   "source": [
    "model_A_clone = keras.models.clone_model(model_A) # 仅仅copy了模型结构，不copy参数\n",
    "model_A_clone.set_weights(model_A.get_weights()) # copy模型参数"
   ]
  },
  {
   "cell_type": "code",
   "execution_count": 80,
   "metadata": {},
   "outputs": [],
   "source": [
    "# 因为新的输出层是随机初始化的，前几个epoch的loss会特别大，如果直接train，\n",
    "# 有可能会影响到之前我们从model_A迁移过来的层\n",
    "# 所以我们可以再前几个epoch把输出层前的层变成non-trainable(freeze): `layer.trainable = False`, \n",
    "# 使得输出层可以先缓冲一下，学到一些reasonable的权重\n",
    "# 然后在后面的epoch把前面的层改为trainable(unfreeze)进行fine-tune\n",
    "# 需要注意的是，每一次freeze和unfreeze都需要重新compile模型\n",
    "\n",
    "for layer in model_B_on_A.layers[:-1]:\n",
    "    layer.trainable = False\n",
    "\n",
    "model_B_on_A.compile(loss=\"binary_crossentropy\",\n",
    "                     optimizer=keras.optimizers.SGD(lr=1e-3),\n",
    "                     metrics=[\"accuracy\"])\n",
    "# ATTENTION: You must always compile your model after you freeze or unfreeze layers.\n",
    "\n",
    "history = model_B_on_A.fit(X_train_B, y_train_B, epochs=4,\n",
    "                           validation_data=(X_valid_B, y_valid_B))\n",
    "\n",
    "for layer in model_B_on_A.layers[:-1]:\n",
    "    layer.trainable = True\n",
    "\n",
    "model_B_on_A.compile(loss=\"binary_crossentropy\",\n",
    "                     optimizer=keras.optimizers.SGD(lr=1e-3),\n",
    "                     metrics=[\"accuracy\"])\n",
    "history = model_B_on_A.fit(X_train_B, y_train_B, epochs=16,\n",
    "                           validation_data=(X_valid_B, y_valid_B))"
   ]
  },
  {
   "cell_type": "markdown",
   "metadata": {},
   "source": [
    "So, what's the final verdict?"
   ]
  },
  {
   "cell_type": "code",
   "execution_count": 86,
   "metadata": {},
   "outputs": [
    {
     "data": {
      "text/plain": [
       "[0.3288893704414368, 0.9325]"
      ]
     },
     "execution_count": 86,
     "metadata": {},
     "output_type": "execute_result"
    }
   ],
   "source": [
    "model_B.evaluate(X_test_B, y_test_B,verbose=0)"
   ]
  },
  {
   "cell_type": "code",
   "execution_count": 87,
   "metadata": {},
   "outputs": [
    {
     "data": {
      "text/plain": [
       "[0.05599297946691513, 0.994]"
      ]
     },
     "execution_count": 87,
     "metadata": {},
     "output_type": "execute_result"
    }
   ],
   "source": [
    "model_B_on_A.evaluate(X_test_B, y_test_B,verbose=0)"
   ]
  },
  {
   "cell_type": "markdown",
   "metadata": {},
   "source": [
    "# Faster Optimizers"
   ]
  },
  {
   "cell_type": "markdown",
   "metadata": {},
   "source": [
    "## Momentum optimization"
   ]
  },
  {
   "cell_type": "code",
   "execution_count": 67,
   "metadata": {},
   "outputs": [],
   "source": [
    "optimizer = keras.optimizers.SGD(lr=0.001, momentum=0.9)"
   ]
  },
  {
   "cell_type": "markdown",
   "metadata": {},
   "source": [
    "## Nesterov Accelerated Gradient"
   ]
  },
  {
   "cell_type": "code",
   "execution_count": 68,
   "metadata": {},
   "outputs": [],
   "source": [
    "optimizer = keras.optimizers.SGD(lr=0.001, momentum=0.9, nesterov=True)"
   ]
  },
  {
   "cell_type": "markdown",
   "metadata": {},
   "source": [
    "## AdaGrad"
   ]
  },
  {
   "cell_type": "code",
   "execution_count": 69,
   "metadata": {},
   "outputs": [],
   "source": [
    "optimizer = keras.optimizers.Adagrad(lr=0.001)"
   ]
  },
  {
   "cell_type": "markdown",
   "metadata": {},
   "source": [
    "## RMSProp"
   ]
  },
  {
   "cell_type": "code",
   "execution_count": 70,
   "metadata": {},
   "outputs": [],
   "source": [
    "optimizer = keras.optimizers.RMSprop(lr=0.001, rho=0.9)"
   ]
  },
  {
   "cell_type": "markdown",
   "metadata": {},
   "source": [
    "## Adam Optimization"
   ]
  },
  {
   "cell_type": "code",
   "execution_count": 71,
   "metadata": {},
   "outputs": [],
   "source": [
    "optimizer = keras.optimizers.Adam(lr=0.001, beta_1=0.9, beta_2=0.999)"
   ]
  },
  {
   "cell_type": "markdown",
   "metadata": {},
   "source": [
    "## Adamax Optimization"
   ]
  },
  {
   "cell_type": "code",
   "execution_count": 72,
   "metadata": {},
   "outputs": [],
   "source": [
    "optimizer = keras.optimizers.Adamax(lr=0.001, beta_1=0.9, beta_2=0.999)"
   ]
  },
  {
   "cell_type": "markdown",
   "metadata": {},
   "source": [
    "## Nadam Optimization"
   ]
  },
  {
   "cell_type": "code",
   "execution_count": 73,
   "metadata": {},
   "outputs": [],
   "source": [
    "optimizer = keras.optimizers.Nadam(lr=0.001, beta_1=0.9, beta_2=0.999)"
   ]
  },
  {
   "cell_type": "markdown",
   "metadata": {},
   "source": [
    "# Learning Rate Scheduling\n",
    "- Power scheduling\n",
    "- Exponential scheduling\n",
    "- Piecewise constant scheduling\n",
    "- Performance scheduling\n",
    "- 1cycle scheduling\n"
   ]
  },
  {
   "cell_type": "markdown",
   "metadata": {},
   "source": [
    "不同学习率下的学习过程：\n",
    "\n",
    "<img src=pics/lr_plot.png width=666>\n"
   ]
  },
  {
   "cell_type": "markdown",
   "metadata": {},
   "source": [
    "### Power Scheduling"
   ]
  },
  {
   "cell_type": "markdown",
   "metadata": {},
   "source": [
    "```lr = lr0 / (1 + steps / s)**c``` :  Keras uses `c=1` and `s = 1 / decay`\n",
    "\n",
    "$\\boldsymbol{\\eta}(t)=\\boldsymbol{\\eta}_{0} /(1+t/s)^{\\boldsymbol{c}}$\n",
    "\n",
    "其中t是指第t轮迭代，默认c=1。$\\eta_{0}$和s可以调。"
   ]
  },
  {
   "cell_type": "code",
   "execution_count": 90,
   "metadata": {},
   "outputs": [
    {
     "name": "stdout",
     "output_type": "stream",
     "text": [
      "Train on 55000 samples, validate on 5000 samples\n",
      "Epoch 1/10\n",
      "55000/55000 - 5s - loss: 0.4933 - accuracy: 0.8266 - val_loss: 0.4161 - val_accuracy: 0.8564\n",
      "Epoch 2/10\n",
      "55000/55000 - 3s - loss: 0.3978 - accuracy: 0.8595 - val_loss: 0.3990 - val_accuracy: 0.8616\n",
      "Epoch 3/10\n",
      "55000/55000 - 4s - loss: 0.3762 - accuracy: 0.8678 - val_loss: 0.3861 - val_accuracy: 0.8638\n",
      "Epoch 4/10\n",
      "55000/55000 - 4s - loss: 0.3644 - accuracy: 0.8724 - val_loss: 0.3788 - val_accuracy: 0.8678\n",
      "Epoch 5/10\n",
      "55000/55000 - 4s - loss: 0.3562 - accuracy: 0.8752 - val_loss: 0.3749 - val_accuracy: 0.8702\n",
      "Epoch 6/10\n",
      "55000/55000 - 4s - loss: 0.3504 - accuracy: 0.8775 - val_loss: 0.3729 - val_accuracy: 0.8694\n",
      "Epoch 7/10\n",
      "55000/55000 - 4s - loss: 0.3455 - accuracy: 0.8801 - val_loss: 0.3697 - val_accuracy: 0.8706\n",
      "Epoch 8/10\n",
      "55000/55000 - 4s - loss: 0.3419 - accuracy: 0.8807 - val_loss: 0.3690 - val_accuracy: 0.8696\n",
      "Epoch 9/10\n",
      "55000/55000 - 4s - loss: 0.3386 - accuracy: 0.8818 - val_loss: 0.3669 - val_accuracy: 0.8722\n",
      "Epoch 10/10\n",
      "55000/55000 - 6s - loss: 0.3359 - accuracy: 0.8834 - val_loss: 0.3650 - val_accuracy: 0.8728\n"
     ]
    }
   ],
   "source": [
    "optimizer = keras.optimizers.SGD(lr=0.01, decay=1e-3) # s = 1 / decay\n",
    "\n",
    "model = keras.models.Sequential([\n",
    "    keras.layers.Flatten(input_shape=[28, 28]),\n",
    "    keras.layers.Dense(300, activation=\"selu\", kernel_initializer=\"lecun_normal\"),\n",
    "    keras.layers.Dense(100, activation=\"selu\", kernel_initializer=\"lecun_normal\"),\n",
    "    keras.layers.Dense(10, activation=\"softmax\")\n",
    "])\n",
    "model.compile(loss=\"sparse_categorical_crossentropy\", optimizer=optimizer, metrics=[\"accuracy\"])\n",
    "\n",
    "n_epochs = 10\n",
    "history = model.fit(X_train_scaled, y_train, epochs=n_epochs,verbose=2,\n",
    "                    validation_data=(X_valid_scaled, y_valid))"
   ]
  },
  {
   "cell_type": "code",
   "execution_count": 91,
   "metadata": {},
   "outputs": [
    {
     "data": {
      "image/png": "[encoded data removed]",
      "text/plain": [
       "<Figure size 432x288 with 1 Axes>"
      ]
     },
     "metadata": {
      "needs_background": "light"
     },
     "output_type": "display_data"
    }
   ],
   "source": [
    "learning_rate = 0.01\n",
    "decay = 1e-4 # s = 1 / decay\n",
    "batch_size = 32\n",
    "n_steps_per_epoch = len(X_train) // batch_size\n",
    "epochs = np.arange(n_epochs)\n",
    "lrs = learning_rate / (1 + decay * epochs * n_steps_per_epoch)\n",
    "plt.plot(epochs, lrs,  \"o-\")\n",
    "plt.axis([0, n_epochs - 1, 0, 0.01])\n",
    "plt.xlabel(\"Epoch\")\n",
    "plt.ylabel(\"Learning Rate\")\n",
    "plt.title(\"Power Scheduling\", fontsize=14)\n",
    "plt.grid(True)\n",
    "plt.show()"
   ]
  },
  {
   "cell_type": "markdown",
   "metadata": {},
   "source": [
    "### Exponential Scheduling"
   ]
  },
  {
   "cell_type": "markdown",
   "metadata": {},
   "source": [
    "```lr = lr0 * 0.1**(epoch / s)```\n",
    "\n",
    "$\\boldsymbol{\\eta}(\\boldsymbol{t})=\\boldsymbol{\\eta}_{0} 0.1^{t/s}$\n",
    "\n",
    "每s轮就缩小到10%的学习率，相比于Power scheduling幅度大了很多。\n"
   ]
  },
  {
   "cell_type": "code",
   "execution_count": 92,
   "metadata": {},
   "outputs": [],
   "source": [
    "def exponential_decay_fn(epoch):\n",
    "    return 0.01 * 0.1**(epoch / 20)\n",
    "\n",
    "# 将lr0, s变成参数\n",
    "def exponential_decay(lr0, s):\n",
    "    def exponential_decay_fn(epoch):\n",
    "        return lr0 * 0.1**(epoch / s)\n",
    "    return exponential_decay_fn\n",
    "\n",
    "## 不用epoch，迭代更新lr\n",
    "# def exponential_decay_fn(epoch,lr):\n",
    "#     return lr*0.1**(1/20)\n",
    "\n",
    "exponential_decay_fn = exponential_decay(lr0=0.01, s=20)"
   ]
  },
  {
   "cell_type": "code",
   "execution_count": 94,
   "metadata": {},
   "outputs": [
    {
     "name": "stdout",
     "output_type": "stream",
     "text": [
      "Train on 55000 samples, validate on 5000 samples\n",
      "Epoch 1/10\n",
      "55000/55000 [==============================] - 9s 158us/sample - loss: 0.8772 - accuracy: 0.7505 - val_loss: 0.7081 - val_accuracy: 0.7928\n",
      "Epoch 2/10\n",
      "55000/55000 [==============================] - 8s 139us/sample - loss: 0.8225 - accuracy: 0.7483 - val_loss: 0.9584 - val_accuracy: 0.7250\n",
      "Epoch 3/10\n",
      "55000/55000 [==============================] - 8s 143us/sample - loss: 0.6879 - accuracy: 0.7943 - val_loss: 0.6100 - val_accuracy: 0.8366\n",
      "Epoch 4/10\n",
      "55000/55000 [==============================] - 8s 143us/sample - loss: 0.5837 - accuracy: 0.8339 - val_loss: 0.5466 - val_accuracy: 0.8516\n",
      "Epoch 5/10\n",
      "55000/55000 [==============================] - 8s 140us/sample - loss: 0.5063 - accuracy: 0.8518 - val_loss: 0.5528 - val_accuracy: 0.8436\n",
      "Epoch 6/10\n",
      "55000/55000 [==============================] - 8s 150us/sample - loss: 0.4666 - accuracy: 0.8630 - val_loss: 0.4863 - val_accuracy: 0.8542\n",
      "Epoch 7/10\n",
      "55000/55000 [==============================] - 8s 141us/sample - loss: 0.4545 - accuracy: 0.8698 - val_loss: 0.5690 - val_accuracy: 0.8324\n",
      "Epoch 8/10\n",
      "55000/55000 [==============================] - 7s 125us/sample - loss: 0.3838 - accuracy: 0.8827 - val_loss: 0.5717 - val_accuracy: 0.8448\n",
      "Epoch 9/10\n",
      "55000/55000 [==============================] - 7s 131us/sample - loss: 0.3665 - accuracy: 0.8882 - val_loss: 0.5277 - val_accuracy: 0.8646\n",
      "Epoch 10/10\n",
      "55000/55000 [==============================] - 7s 131us/sample - loss: 0.3441 - accuracy: 0.8944 - val_loss: 0.4173 - val_accuracy: 0.8784\n"
     ]
    }
   ],
   "source": [
    "model = keras.models.Sequential([\n",
    "    keras.layers.Flatten(input_shape=[28, 28]),\n",
    "    keras.layers.Dense(300, activation=\"selu\", kernel_initializer=\"lecun_normal\"),\n",
    "    keras.layers.Dense(100, activation=\"selu\", kernel_initializer=\"lecun_normal\"),\n",
    "    keras.layers.Dense(10, activation=\"softmax\")\n",
    "])\n",
    "\n",
    "model.compile(loss=\"sparse_categorical_crossentropy\", \n",
    "              optimizer=\"nadam\", metrics=[\"accuracy\"])\n",
    "n_epochs = 10\n",
    "# keras.callbacks.LearningRateScheduler\n",
    "# The LearningRateScheduler will update the optimizer’s learning_rate\n",
    "# attribute at the beginning of each epoch.\n",
    "lr_scheduler = keras.callbacks.LearningRateScheduler(exponential_decay_fn)\n",
    "history = model.fit(X_train_scaled, y_train, epochs=n_epochs,\n",
    "                    validation_data=(X_valid_scaled, y_valid),\n",
    "                    callbacks=[lr_scheduler])"
   ]
  },
  {
   "cell_type": "code",
   "execution_count": 95,
   "metadata": {},
   "outputs": [
    {
     "data": {
      "image/png": "[encoded data removed]",
      "text/plain": [
       "<Figure size 432x288 with 1 Axes>"
      ]
     },
     "metadata": {
      "needs_background": "light"
     },
     "output_type": "display_data"
    }
   ],
   "source": [
    "plt.plot(history.epoch, history.history[\"lr\"], \"o-\")\n",
    "plt.axis([0, n_epochs - 1, 0, 0.011])\n",
    "plt.xlabel(\"Epoch\")\n",
    "plt.ylabel(\"Learning Rate\")\n",
    "plt.title(\"Exponential Scheduling\", fontsize=14)\n",
    "plt.grid(True)\n",
    "plt.show()"
   ]
  },
  {
   "cell_type": "markdown",
   "metadata": {},
   "source": [
    "上述的Exponential Scheduling是在每一个epoch去对学习率调整的，一般来说，每个epoch调整学习率就够了。\n",
    "\n",
    "但是如果一个epoch中有很多的step，你也可以定义你自己的callback实现在每个step调整学习率。\n",
    "\n",
    "$\\boldsymbol{\\eta}(\\boldsymbol{t})=\\boldsymbol{\\eta}_{0} 0.1^{t/s}$\n",
    "\n",
    "If you want to update the learning rate at each iteration rather than at each epoch, you must write your own callback class:"
   ]
  },
  {
   "cell_type": "code",
   "execution_count": 100,
   "metadata": {
    "scrolled": true
   },
   "outputs": [
    {
     "name": "stdout",
     "output_type": "stream",
     "text": [
      "Train on 55000 samples, validate on 5000 samples\n",
      "Epoch 1/10\n",
      "55000/55000 [==============================] - 10s 186us/sample - loss: 0.7477 - accuracy: 0.7754 - val_loss: 0.5556 - val_accuracy: 0.8258\n",
      "Epoch 2/10\n",
      "55000/55000 [==============================] - 8s 144us/sample - loss: 0.5207 - accuracy: 0.8321 - val_loss: 0.5108 - val_accuracy: 0.8258\n",
      "Epoch 3/10\n",
      "55000/55000 [==============================] - 8s 140us/sample - loss: 0.4315 - accuracy: 0.8564 - val_loss: 0.4157 - val_accuracy: 0.8720\n",
      "Epoch 4/10\n",
      "55000/55000 [==============================] - 8s 139us/sample - loss: 0.3708 - accuracy: 0.8755 - val_loss: 0.3828 - val_accuracy: 0.8746\n",
      "Epoch 5/10\n",
      "55000/55000 [==============================] - 8s 142us/sample - loss: 0.3227 - accuracy: 0.8893 - val_loss: 0.3731 - val_accuracy: 0.8832\n",
      "Epoch 6/10\n",
      "55000/55000 [==============================] - 8s 147us/sample - loss: 0.2821 - accuracy: 0.9006 - val_loss: 0.3513 - val_accuracy: 0.8864\n",
      "Epoch 7/10\n",
      "55000/55000 [==============================] - 8s 141us/sample - loss: 0.2503 - accuracy: 0.9106 - val_loss: 0.3547 - val_accuracy: 0.8880\n",
      "Epoch 8/10\n",
      "55000/55000 [==============================] - 8s 142us/sample - loss: 0.2243 - accuracy: 0.9200 - val_loss: 0.3305 - val_accuracy: 0.8904\n",
      "Epoch 9/10\n",
      "55000/55000 [==============================] - 8s 141us/sample - loss: 0.1992 - accuracy: 0.9278 - val_loss: 0.3669 - val_accuracy: 0.8876\n",
      "Epoch 10/10\n",
      "55000/55000 [==============================] - 8s 143us/sample - loss: 0.1803 - accuracy: 0.9346 - val_loss: 0.3630 - val_accuracy: 0.8922\n"
     ]
    }
   ],
   "source": [
    "K = keras.backend\n",
    "\n",
    "class ExponentialDecay(keras.callbacks.Callback):\n",
    "    def __init__(self, s=40000):\n",
    "        super().__init__()\n",
    "        self.s = s\n",
    "\n",
    "    def on_batch_begin(self, batch, logs=None):\n",
    "        # Note: the `batch` argument is reset at each epoch\n",
    "        lr = K.get_value(self.model.optimizer.lr)\n",
    "        K.set_value(self.model.optimizer.lr, lr * 0.1**(1 / s))\n",
    "\n",
    "    def on_epoch_end(self, epoch, logs=None):\n",
    "        logs = logs or {}\n",
    "        logs['lr'] = K.get_value(self.model.optimizer.lr)\n",
    "\n",
    "model = keras.models.Sequential([\n",
    "    keras.layers.Flatten(input_shape=[28, 28]),\n",
    "    keras.layers.Dense(300, activation=\"selu\", kernel_initializer=\"lecun_normal\"),\n",
    "    keras.layers.Dense(100, activation=\"selu\", kernel_initializer=\"lecun_normal\"),\n",
    "    keras.layers.Dense(10, activation=\"softmax\")\n",
    "])\n",
    "\n",
    "lr0 = 0.01\n",
    "optimizer = keras.optimizers.Nadam(lr=lr0)\n",
    "model.compile(loss=\"sparse_categorical_crossentropy\", optimizer=optimizer, metrics=[\"accuracy\"])\n",
    "n_epochs = 10\n",
    "\n",
    "s = 8 * len(X_train) // 32 # number of steps in 6 epochs (batch size = 32)\n",
    "exp_decay = ExponentialDecay(s)\n",
    "history = model.fit(X_train_scaled, y_train, epochs=n_epochs,\n",
    "                    validation_data=(X_valid_scaled, y_valid),\n",
    "                    callbacks=[exp_decay])"
   ]
  },
  {
   "cell_type": "code",
   "execution_count": 101,
   "metadata": {},
   "outputs": [
    {
     "data": {
      "image/png": "[encoded data removed]",
      "text/plain": [
       "<Figure size 432x288 with 1 Axes>"
      ]
     },
     "metadata": {
      "needs_background": "light"
     },
     "output_type": "display_data"
    }
   ],
   "source": [
    "n_steps = n_epochs * len(X_train) // 32\n",
    "steps = np.arange(n_steps)\n",
    "lrs = lr0 * 0.1**(steps / s)\n",
    "\n",
    "plt.plot(steps, lrs, \"-\", linewidth=2)\n",
    "plt.axis([0, n_steps - 1, 0, lr0 * 1.1])\n",
    "plt.xlabel(\"Batch\")\n",
    "plt.ylabel(\"Learning Rate\")\n",
    "plt.title(\"Exponential Scheduling (per batch)\", fontsize=14)\n",
    "plt.grid(True)\n",
    "plt.show()"
   ]
  },
  {
   "cell_type": "markdown",
   "metadata": {},
   "source": [
    "### Piecewise Constant Scheduling"
   ]
  },
  {
   "cell_type": "code",
   "execution_count": 102,
   "metadata": {},
   "outputs": [],
   "source": [
    "def piecewise_constant_fn(epoch):\n",
    "    if epoch < 3:\n",
    "        return 0.01\n",
    "    elif epoch < 6:\n",
    "        return 0.005\n",
    "    else:\n",
    "        return 0.001"
   ]
  },
  {
   "cell_type": "code",
   "execution_count": 107,
   "metadata": {},
   "outputs": [
    {
     "name": "stdout",
     "output_type": "stream",
     "text": [
      "Train on 55000 samples, validate on 5000 samples\n",
      "Epoch 1/10\n",
      "55000/55000 [==============================] - 9s 166us/sample - loss: 0.8773 - accuracy: 0.7442 - val_loss: 1.2647 - val_accuracy: 0.7160\n",
      "Epoch 2/10\n",
      "55000/55000 [==============================] - 8s 142us/sample - loss: 0.9276 - accuracy: 0.6988 - val_loss: 1.0086 - val_accuracy: 0.6862\n",
      "Epoch 3/10\n",
      "55000/55000 [==============================] - 8s 142us/sample - loss: 0.9263 - accuracy: 0.7051 - val_loss: 0.8251 - val_accuracy: 0.7876\n",
      "Epoch 4/10\n",
      "55000/55000 [==============================] - 8s 146us/sample - loss: 0.5373 - accuracy: 0.8293 - val_loss: 0.5349 - val_accuracy: 0.8470\n",
      "Epoch 5/10\n",
      "55000/55000 [==============================] - 8s 142us/sample - loss: 0.5004 - accuracy: 0.8428 - val_loss: 0.5430 - val_accuracy: 0.8022\n",
      "Epoch 6/10\n",
      "55000/55000 [==============================] - 7s 135us/sample - loss: 0.4866 - accuracy: 0.8527 - val_loss: 0.5004 - val_accuracy: 0.8566\n",
      "Epoch 7/10\n",
      "55000/55000 [==============================] - 8s 143us/sample - loss: 0.3340 - accuracy: 0.8874 - val_loss: 0.4267 - val_accuracy: 0.8786\n",
      "Epoch 8/10\n",
      "55000/55000 [==============================] - 8s 142us/sample - loss: 0.3059 - accuracy: 0.8955 - val_loss: 0.4094 - val_accuracy: 0.8798\n",
      "Epoch 9/10\n",
      "55000/55000 [==============================] - 8s 139us/sample - loss: 0.2887 - accuracy: 0.8997 - val_loss: 0.4376 - val_accuracy: 0.8762\n",
      "Epoch 10/10\n",
      "55000/55000 [==============================] - 8s 148us/sample - loss: 0.2745 - accuracy: 0.9038 - val_loss: 0.4206 - val_accuracy: 0.8830\n"
     ]
    }
   ],
   "source": [
    "def piecewise_constant(boundaries, values):\n",
    "    boundaries = np.array([0] + boundaries)\n",
    "    values = np.array(values)\n",
    "    def piecewise_constant_fn(epoch):\n",
    "        return values[np.argmax(boundaries > epoch) - 1] # values[np.argmax(boundaries > epoch) - 1]\n",
    "    return piecewise_constant_fn\n",
    "\n",
    "piecewise_constant_fn = piecewise_constant([3, 6], [0.01, 0.005, 0.001])\n",
    "\n",
    "lr_scheduler = keras.callbacks.LearningRateScheduler(piecewise_constant_fn)\n",
    "\n",
    "model = keras.models.Sequential([\n",
    "    keras.layers.Flatten(input_shape=[28, 28]),\n",
    "    keras.layers.Dense(300, activation=\"selu\", kernel_initializer=\"lecun_normal\"),\n",
    "    keras.layers.Dense(100, activation=\"selu\", kernel_initializer=\"lecun_normal\"),\n",
    "    keras.layers.Dense(10, activation=\"softmax\")\n",
    "])\n",
    "model.compile(loss=\"sparse_categorical_crossentropy\", optimizer=\"nadam\", metrics=[\"accuracy\"])\n",
    "n_epochs = 10\n",
    "history = model.fit(X_train_scaled, y_train, epochs=n_epochs,\n",
    "                    validation_data=(X_valid_scaled, y_valid),\n",
    "                    callbacks=[lr_scheduler])"
   ]
  },
  {
   "cell_type": "code",
   "execution_count": 108,
   "metadata": {},
   "outputs": [
    {
     "data": {
      "image/png": "[encoded data removed]",
      "text/plain": [
       "<Figure size 432x288 with 1 Axes>"
      ]
     },
     "metadata": {
      "needs_background": "light"
     },
     "output_type": "display_data"
    }
   ],
   "source": [
    "plt.plot(history.epoch, [piecewise_constant_fn(epoch) for epoch in history.epoch], \"o-\")\n",
    "plt.axis([0, n_epochs - 1, 0, 0.011])\n",
    "plt.xlabel(\"Epoch\")\n",
    "plt.ylabel(\"Learning Rate\")\n",
    "plt.title(\"Piecewise Constant Scheduling\", fontsize=14)\n",
    "plt.grid(True)\n",
    "plt.show()"
   ]
  },
  {
   "cell_type": "markdown",
   "metadata": {},
   "source": [
    "### Performance Scheduling"
   ]
  },
  {
   "cell_type": "code",
   "execution_count": 113,
   "metadata": {},
   "outputs": [
    {
     "name": "stdout",
     "output_type": "stream",
     "text": [
      "Train on 55000 samples, validate on 5000 samples\n",
      "Epoch 1/10\n",
      "55000/55000 [==============================] - 6s 112us/sample - loss: 0.6082 - accuracy: 0.8033 - val_loss: 0.5549 - val_accuracy: 0.8078\n",
      "Epoch 2/10\n",
      "55000/55000 [==============================] - 4s 74us/sample - loss: 0.5152 - accuracy: 0.8362 - val_loss: 0.6474 - val_accuracy: 0.8084\n",
      "Epoch 3/10\n",
      "55000/55000 [==============================] - 4s 73us/sample - loss: 0.5137 - accuracy: 0.8437 - val_loss: 0.5203 - val_accuracy: 0.8428\n",
      "Epoch 4/10\n",
      "55000/55000 [==============================] - 4s 74us/sample - loss: 0.5094 - accuracy: 0.8459 - val_loss: 0.6285 - val_accuracy: 0.8252\n",
      "Epoch 5/10\n",
      "55000/55000 [==============================] - 5s 93us/sample - loss: 0.5377 - accuracy: 0.8477 - val_loss: 0.6034 - val_accuracy: 0.8556\n",
      "Epoch 6/10\n",
      "55000/55000 [==============================] - 4s 74us/sample - loss: 0.5397 - accuracy: 0.8513 - val_loss: 0.6895 - val_accuracy: 0.8492\n",
      "Epoch 7/10\n",
      "55000/55000 [==============================] - 4s 73us/sample - loss: 0.3106 - accuracy: 0.8930 - val_loss: 0.3406 - val_accuracy: 0.8894\n",
      "Epoch 8/10\n",
      "55000/55000 [==============================] - 4s 75us/sample - loss: 0.2570 - accuracy: 0.9058 - val_loss: 0.3666 - val_accuracy: 0.8790\n",
      "Epoch 9/10\n",
      "55000/55000 [==============================] - 4s 75us/sample - loss: 0.2399 - accuracy: 0.9119 - val_loss: 0.4048 - val_accuracy: 0.8774\n",
      "Epoch 10/10\n",
      "55000/55000 [==============================] - 4s 77us/sample - loss: 0.2230 - accuracy: 0.9170 - val_loss: 0.4103 - val_accuracy: 0.8752\n"
     ]
    }
   ],
   "source": [
    "tf.random.set_seed(42)\n",
    "np.random.seed(42)\n",
    "\n",
    "lr_scheduler = keras.callbacks.ReduceLROnPlateau(factor=0.5, patience=3)\n",
    "# 如果连续3轮validation loss不降低，则将lr*0.5\n",
    "\n",
    "model = keras.models.Sequential([\n",
    "    keras.layers.Flatten(input_shape=[28, 28]),\n",
    "    keras.layers.Dense(300, activation=\"selu\", kernel_initializer=\"lecun_normal\"),\n",
    "    keras.layers.Dense(100, activation=\"selu\", kernel_initializer=\"lecun_normal\"),\n",
    "    keras.layers.Dense(10, activation=\"softmax\")\n",
    "])\n",
    "optimizer = keras.optimizers.SGD(lr=0.02, momentum=0.9)\n",
    "model.compile(loss=\"sparse_categorical_crossentropy\", optimizer=optimizer, metrics=[\"accuracy\"])\n",
    "n_epochs = 10\n",
    "history = model.fit(X_train_scaled, y_train, epochs=n_epochs,\n",
    "                    validation_data=(X_valid_scaled, y_valid),\n",
    "                    callbacks=[lr_scheduler])"
   ]
  },
  {
   "cell_type": "code",
   "execution_count": 114,
   "metadata": {},
   "outputs": [
    {
     "data": {
      "image/png": "[encoded data removed]",
      "text/plain": [
       "<Figure size 432x288 with 2 Axes>"
      ]
     },
     "metadata": {
      "needs_background": "light"
     },
     "output_type": "display_data"
    }
   ],
   "source": [
    "plt.plot(history.epoch, history.history[\"lr\"], \"bo-\")\n",
    "plt.xlabel(\"Epoch\")\n",
    "plt.ylabel(\"Learning Rate\", color='b')\n",
    "plt.tick_params('y', colors='b')\n",
    "plt.gca().set_xlim(0, n_epochs - 1)\n",
    "plt.grid(True)\n",
    "\n",
    "ax2 = plt.gca().twinx()\n",
    "ax2.plot(history.epoch, history.history[\"val_loss\"], \"r^-\")\n",
    "ax2.set_ylabel('Validation Loss', color='r')\n",
    "ax2.tick_params('y', colors='r')\n",
    "\n",
    "plt.title(\"Reduce LR on Plateau\", fontsize=14)\n",
    "plt.show()"
   ]
  },
  {
   "cell_type": "markdown",
   "metadata": {},
   "source": [
    "### 用`tf.keras schedulers`实现\n",
    "\n",
    "$\\boldsymbol{\\eta}(\\boldsymbol{t})=\\boldsymbol{\\eta}_{0} 0.1^{t/s}$\n",
    "\n",
    "初始学习率为0.01，每s轮就缩小到10%的学习率：\n",
    "\n",
    "```python\n",
    "learning_rate = keras.optimizers.schedules.ExponentialDecay(initial_learning_rate=0.01, decay_steps=s, decay_rate=0.1) #  \n",
    "```\n",
    "\n",
    ">This approach updates the learning rate at each step rather than at each epoch.\n",
    "\n",
    "但你保存模型的时候，学习率和schedule的状态也会一起保存。这是`tf.keras`中的特性。"
   ]
  },
  {
   "cell_type": "code",
   "execution_count": 115,
   "metadata": {},
   "outputs": [
    {
     "name": "stdout",
     "output_type": "stream",
     "text": [
      "Train on 55000 samples, validate on 5000 samples\n",
      "Epoch 1/10\n",
      "55000/55000 [==============================] - 5s 97us/sample - loss: 0.4888 - accuracy: 0.8271 - val_loss: 0.4080 - val_accuracy: 0.8584\n",
      "Epoch 2/10\n",
      "55000/55000 [==============================] - 5s 85us/sample - loss: 0.3818 - accuracy: 0.8655 - val_loss: 0.3884 - val_accuracy: 0.8660\n",
      "Epoch 3/10\n",
      "55000/55000 [==============================] - 5s 89us/sample - loss: 0.3480 - accuracy: 0.8767 - val_loss: 0.3674 - val_accuracy: 0.8686\n",
      "Epoch 4/10\n",
      "55000/55000 [==============================] - 5s 87us/sample - loss: 0.3264 - accuracy: 0.8839 - val_loss: 0.3517 - val_accuracy: 0.8784\n",
      "Epoch 5/10\n",
      "55000/55000 [==============================] - 5s 89us/sample - loss: 0.3100 - accuracy: 0.8896 - val_loss: 0.3430 - val_accuracy: 0.8786\n",
      "Epoch 6/10\n",
      "55000/55000 [==============================] - 4s 75us/sample - loss: 0.2961 - accuracy: 0.8946 - val_loss: 0.3403 - val_accuracy: 0.8828\n",
      "Epoch 7/10\n",
      "55000/55000 [==============================] - 4s 69us/sample - loss: 0.2849 - accuracy: 0.8982 - val_loss: 0.3333 - val_accuracy: 0.8820\n",
      "Epoch 8/10\n",
      "55000/55000 [==============================] - 4s 71us/sample - loss: 0.2762 - accuracy: 0.9024 - val_loss: 0.3358 - val_accuracy: 0.8796\n",
      "Epoch 9/10\n",
      "55000/55000 [==============================] - 4s 77us/sample - loss: 0.2678 - accuracy: 0.9046 - val_loss: 0.3337 - val_accuracy: 0.8830\n",
      "Epoch 10/10\n",
      "55000/55000 [==============================] - 4s 74us/sample - loss: 0.2610 - accuracy: 0.9076 - val_loss: 0.3261 - val_accuracy: 0.8872\n"
     ]
    }
   ],
   "source": [
    "model = keras.models.Sequential([\n",
    "    keras.layers.Flatten(input_shape=[28, 28]),\n",
    "    keras.layers.Dense(300, activation=\"selu\", kernel_initializer=\"lecun_normal\"),\n",
    "    keras.layers.Dense(100, activation=\"selu\", kernel_initializer=\"lecun_normal\"),\n",
    "    keras.layers.Dense(10, activation=\"softmax\")\n",
    "])\n",
    "\n",
    "s = 20 * len(X_train) // 32 # number of steps in 20 epochs (batch size = 32)\n",
    "learning_rate = keras.optimizers.schedules.ExponentialDecay(initial_learning_rate=0.01, decay_steps=s, decay_rate=0.1) #  \n",
    "optimizer = keras.optimizers.SGD(learning_rate)\n",
    "model.compile(loss=\"sparse_categorical_crossentropy\", optimizer=optimizer, metrics=[\"accuracy\"])\n",
    "n_epochs = 10\n",
    "history = model.fit(X_train_scaled, y_train, epochs=n_epochs,\n",
    "                    validation_data=(X_valid_scaled, y_valid))"
   ]
  },
  {
   "cell_type": "markdown",
   "metadata": {},
   "source": [
    "<b>For piecewise constant scheduling, try this:</b>\n",
    "```python\n",
    "learning_rate = keras.optimizers.schedules.PiecewiseConstantDecay(\n",
    "    boundaries=[5. * n_steps_per_epoch, 15. * n_steps_per_epoch],\n",
    "    values=[0.01, 0.005, 0.001])\n",
    "```"
   ]
  },
  {
   "cell_type": "code",
   "execution_count": 117,
   "metadata": {},
   "outputs": [],
   "source": [
    "learning_rate = keras.optimizers.schedules.PiecewiseConstantDecay(\n",
    "    boundaries=[5. * n_steps_per_epoch, 15. * n_steps_per_epoch],\n",
    "    values=[0.01, 0.005, 0.001])"
   ]
  },
  {
   "cell_type": "markdown",
   "metadata": {},
   "source": [
    "### 1Cycle scheduling\n",
    "\n",
    "在完成前几个epoch的时候，学习率先从$\\eta_{0}$线性递增到$\\eta_{1}$（第一个halfway），然后再线性递减到$\\eta_{0}$（第二个halfway），最后几个epoch学习率线性递减。\n",
    "\n",
    "$\\eta_{1}$选择根据最佳学习率的选择方法，$\\eta_{0}$一般为$\\eta_{1}$的1/10.\n",
    "对于momentum参数来说，我们在第一个halfway从大的值（比如0.95）过渡到小的值（比如0.85），然后在第二个halfway增加到大值（0.95），最后几个epoch也保持这个值（0.95）。\n",
    "\n",
    "\n",
    "> In general,\n",
    "the optimal learning rate is about half of the maximum learning rate (i.e., the\n",
    "learning rate above which the training algorithm diverges.\n",
    "\n",
    ">One way to find a good learning rate is to train the model for a\n",
    "few hundred iterations, starting with a very low learning rate (e.g., $10^{-5}$) and\n",
    "gradually increasing it up to a very large value (e.g., 10). This is done by\n",
    "multiplying the learning rate by a constant factor at each iteration (e.g., by\n",
    "$exp(log(10^{6})/500)$ to go from $10^{-5}$ to 10 in 500 iterations)."
   ]
  },
  {
   "cell_type": "code",
   "execution_count": 118,
   "metadata": {},
   "outputs": [],
   "source": [
    "K = keras.backend\n",
    "\n",
    "class ExponentialLearningRate(keras.callbacks.Callback):\n",
    "    def __init__(self, factor):\n",
    "        self.factor = factor\n",
    "        self.rates = []\n",
    "        self.losses = []\n",
    "    def on_batch_end(self, batch, logs):\n",
    "        self.rates.append(K.get_value(self.model.optimizer.lr))\n",
    "        self.losses.append(logs[\"loss\"])\n",
    "        K.set_value(self.model.optimizer.lr, self.model.optimizer.lr * self.factor)\n",
    "\n",
    "def find_learning_rate(model, X, y, epochs=1, batch_size=32, min_rate=10**-5, max_rate=10):\n",
    "    init_weights = model.get_weights()\n",
    "    iterations = len(X) // batch_size * epochs\n",
    "    factor = np.exp(np.log(max_rate / min_rate) / iterations)\n",
    "    init_lr = K.get_value(model.optimizer.lr)\n",
    "    K.set_value(model.optimizer.lr, min_rate)\n",
    "    exp_lr = ExponentialLearningRate(factor)\n",
    "    history = model.fit(X, y, epochs=epochs, batch_size=batch_size,\n",
    "                        callbacks=[exp_lr])\n",
    "    K.set_value(model.optimizer.lr, init_lr)\n",
    "    model.set_weights(init_weights)\n",
    "    return exp_lr.rates, exp_lr.losses\n",
    "\n",
    "def plot_lr_vs_loss(rates, losses):\n",
    "    plt.plot(rates, losses)\n",
    "    plt.gca().set_xscale('log')\n",
    "    plt.hlines(min(losses), min(rates), max(rates))\n",
    "    plt.axis([min(rates), max(rates), min(losses), (losses[0] + min(losses)) / 2])\n",
    "    plt.xlabel(\"Learning rate\")\n",
    "    plt.ylabel(\"Loss\")"
   ]
  },
  {
   "cell_type": "code",
   "execution_count": 119,
   "metadata": {},
   "outputs": [],
   "source": [
    "tf.random.set_seed(42)\n",
    "np.random.seed(42)\n",
    "\n",
    "model = keras.models.Sequential([\n",
    "    keras.layers.Flatten(input_shape=[28, 28]),\n",
    "    keras.layers.Dense(300, activation=\"selu\", kernel_initializer=\"lecun_normal\"),\n",
    "    keras.layers.Dense(100, activation=\"selu\", kernel_initializer=\"lecun_normal\"),\n",
    "    keras.layers.Dense(10, activation=\"softmax\")\n",
    "])\n",
    "model.compile(loss=\"sparse_categorical_crossentropy\",\n",
    "              optimizer=keras.optimizers.SGD(lr=1e-3),\n",
    "              metrics=[\"accuracy\"])"
   ]
  },
  {
   "cell_type": "code",
   "execution_count": 120,
   "metadata": {},
   "outputs": [
    {
     "name": "stdout",
     "output_type": "stream",
     "text": [
      "Train on 55000 samples\n",
      "55000/55000 [==============================] - 3s 47us/sample - loss: nan - accuracy: 0.3888\n"
     ]
    },
    {
     "data": {
      "image/png": "[encoded data removed]",
      "text/plain": [
       "<Figure size 432x288 with 1 Axes>"
      ]
     },
     "metadata": {
      "needs_background": "light"
     },
     "output_type": "display_data"
    }
   ],
   "source": [
    "batch_size = 128\n",
    "rates, losses = find_learning_rate(model, X_train_scaled, y_train, epochs=1, batch_size=batch_size)\n",
    "plot_lr_vs_loss(rates, losses)"
   ]
  },
  {
   "cell_type": "code",
   "execution_count": 121,
   "metadata": {},
   "outputs": [],
   "source": [
    "class OneCycleScheduler(keras.callbacks.Callback):\n",
    "    def __init__(self, iterations, max_rate, start_rate=None,\n",
    "                 last_iterations=None, last_rate=None):\n",
    "        self.iterations = iterations\n",
    "        self.max_rate = max_rate\n",
    "        self.start_rate = start_rate or max_rate / 10\n",
    "        self.last_iterations = last_iterations or iterations // 10 + 1\n",
    "        self.half_iteration = (iterations - self.last_iterations) // 2\n",
    "        self.last_rate = last_rate or self.start_rate / 1000\n",
    "        self.iteration = 0\n",
    "    def _interpolate(self, iter1, iter2, rate1, rate2):\n",
    "        return ((rate2-rate1)*(self.iteration-iter1)/(iter2-iter1)+rate1)\n",
    "    def on_batch_begin(self, batch, logs):\n",
    "        if self.iteration < self.half_iteration:\n",
    "            rate = self._interpolate(0, self.half_iteration, self.start_rate, self.max_rate)\n",
    "        elif self.iteration < 2 * self.half_iteration:\n",
    "            rate = self._interpolate(self.half_iteration, 2 * self.half_iteration,\n",
    "                                     self.max_rate, self.start_rate)\n",
    "        else:\n",
    "            rate = self._interpolate(2 * self.half_iteration, self.iterations,\n",
    "                                     self.start_rate, self.last_rate)\n",
    "            rate = max(rate, self.last_rate)\n",
    "        self.iteration += 1\n",
    "        K.set_value(self.model.optimizer.lr, rate)"
   ]
  },
  {
   "cell_type": "code",
   "execution_count": 122,
   "metadata": {},
   "outputs": [
    {
     "name": "stdout",
     "output_type": "stream",
     "text": [
      "Train on 55000 samples, validate on 5000 samples\n",
      "Epoch 1/10\n",
      "55000/55000 [==============================] - 2s 43us/sample - loss: 0.6379 - accuracy: 0.7814 - val_loss: 0.4680 - val_accuracy: 0.8350\n",
      "Epoch 2/10\n",
      "55000/55000 [==============================] - 2s 39us/sample - loss: 0.4382 - accuracy: 0.8466 - val_loss: 0.4351 - val_accuracy: 0.8466\n",
      "Epoch 3/10\n",
      "55000/55000 [==============================] - 2s 39us/sample - loss: 0.3944 - accuracy: 0.8592 - val_loss: 0.4016 - val_accuracy: 0.8606\n",
      "Epoch 4/10\n",
      "55000/55000 [==============================] - 2s 45us/sample - loss: 0.3685 - accuracy: 0.8683 - val_loss: 0.3785 - val_accuracy: 0.8698\n",
      "Epoch 5/10\n",
      "55000/55000 [==============================] - 2s 35us/sample - loss: 0.3479 - accuracy: 0.8746 - val_loss: 0.3544 - val_accuracy: 0.8746\n",
      "Epoch 6/10\n",
      "55000/55000 [==============================] - 2s 33us/sample - loss: 0.3131 - accuracy: 0.8882 - val_loss: 0.3459 - val_accuracy: 0.8790\n",
      "Epoch 7/10\n",
      "55000/55000 [==============================] - 2s 33us/sample - loss: 0.2905 - accuracy: 0.8961 - val_loss: 0.3361 - val_accuracy: 0.8828\n",
      "Epoch 8/10\n",
      "55000/55000 [==============================] - 2s 34us/sample - loss: 0.2725 - accuracy: 0.9033 - val_loss: 0.3387 - val_accuracy: 0.8778\n",
      "Epoch 9/10\n",
      "55000/55000 [==============================] - 2s 35us/sample - loss: 0.2594 - accuracy: 0.9083 - val_loss: 0.3294 - val_accuracy: 0.8860\n",
      "Epoch 10/10\n",
      "55000/55000 [==============================] - 2s 33us/sample - loss: 0.2514 - accuracy: 0.9118 - val_loss: 0.3260 - val_accuracy: 0.8862\n"
     ]
    }
   ],
   "source": [
    "# 从上图看到大概lr=0.1后开始发散，选择 max_rate=0.1/2=0.05\n",
    "n_epochs = 10\n",
    "onecycle = OneCycleScheduler(len(X_train) // batch_size * n_epochs, max_rate=0.05)\n",
    "history = model.fit(X_train_scaled, y_train, epochs=n_epochs, batch_size=batch_size,\n",
    "                    validation_data=(X_valid_scaled, y_valid),\n",
    "                    callbacks=[onecycle])"
   ]
  },
  {
   "cell_type": "markdown",
   "metadata": {},
   "source": [
    "# Avoiding Overfitting Through Regularization"
   ]
  },
  {
   "cell_type": "markdown",
   "metadata": {},
   "source": [
    "## L1 and L2 regularization 正则化"
   ]
  },
  {
   "cell_type": "code",
   "execution_count": 123,
   "metadata": {},
   "outputs": [],
   "source": [
    "layer = keras.layers.Dense(100, activation=\"elu\",\n",
    "                           kernel_initializer=\"he_normal\",\n",
    "                           kernel_regularizer=keras.regularizers.l2(0.01))\n",
    "\n",
    "# or l1(0.1) for L1 regularization with a factor or 0.1\n",
    "# or l1_l2(0.1, 0.01) for both L1 and L2 regularization, with factors 0.1 and 0.01 respectively"
   ]
  },
  {
   "cell_type": "code",
   "execution_count": 125,
   "metadata": {},
   "outputs": [
    {
     "name": "stdout",
     "output_type": "stream",
     "text": [
      "Train on 55000 samples, validate on 5000 samples\n",
      "Epoch 1/3\n",
      "55000/55000 [==============================] - 10s 181us/sample - loss: 6.1002 - accuracy: 0.3629 - val_loss: 2.6317 - val_accuracy: 0.3374\n",
      "Epoch 2/3\n",
      "55000/55000 [==============================] - 8s 137us/sample - loss: 2.5513 - accuracy: 0.3636 - val_loss: 2.4608 - val_accuracy: 0.3972\n",
      "Epoch 3/3\n",
      "55000/55000 [==============================] - 7s 129us/sample - loss: 2.3736 - accuracy: 0.4266 - val_loss: 2.3000 - val_accuracy: 0.4378\n"
     ]
    }
   ],
   "source": [
    "model = keras.models.Sequential([\n",
    "    keras.layers.Flatten(input_shape=[28, 28]),\n",
    "    keras.layers.Dense(300, activation=\"elu\",\n",
    "                       kernel_initializer=\"he_normal\",\n",
    "                       kernel_regularizer=keras.regularizers.l1(0.01)),\n",
    "    keras.layers.Dense(100, activation=\"elu\",\n",
    "                       kernel_initializer=\"he_normal\",\n",
    "                       kernel_regularizer=keras.regularizers.l2(0.01)),\n",
    "    keras.layers.Dense(10, activation=\"softmax\",\n",
    "                       kernel_regularizer=keras.regularizers.l1_l2(0.1, 0.01))\n",
    "])\n",
    "model.compile(loss=\"sparse_categorical_crossentropy\", optimizer=\"nadam\", metrics=[\"accuracy\"])\n",
    "n_epochs = 3\n",
    "history = model.fit(X_train_scaled, y_train, epochs=n_epochs,\n",
    "                    validation_data=(X_valid_scaled, y_valid))"
   ]
  },
  {
   "cell_type": "code",
   "execution_count": null,
   "metadata": {},
   "outputs": [],
   "source": []
  },
  {
   "cell_type": "code",
   "execution_count": 126,
   "metadata": {},
   "outputs": [
    {
     "name": "stdout",
     "output_type": "stream",
     "text": [
      "Train on 55000 samples, validate on 5000 samples\n",
      "Epoch 1/3\n",
      "55000/55000 [==============================] - 8s 146us/sample - loss: 1.6690 - accuracy: 0.8112 - val_loss: 0.7613 - val_accuracy: 0.8072\n",
      "Epoch 2/3\n",
      "55000/55000 [==============================] - 8s 148us/sample - loss: 0.7190 - accuracy: 0.8259 - val_loss: 0.7181 - val_accuracy: 0.8214\n",
      "Epoch 3/3\n",
      "55000/55000 [==============================] - 9s 160us/sample - loss: 0.6980 - accuracy: 0.8335 - val_loss: 0.6880 - val_accuracy: 0.8370\n"
     ]
    }
   ],
   "source": [
    "# 固定正则的参数：\n",
    "from functools import partial\n",
    "RegularizedDense = partial(keras.layers.Dense,\n",
    "                           activation=\"elu\",\n",
    "                           kernel_initializer=\"he_normal\",\n",
    "                           kernel_regularizer=keras.regularizers.l2(0.01))\n",
    "\n",
    "model = keras.models.Sequential([\n",
    "    keras.layers.Flatten(input_shape=[28, 28]),\n",
    "    RegularizedDense(300),\n",
    "    RegularizedDense(100),\n",
    "    RegularizedDense(10, activation=\"softmax\")\n",
    "])\n",
    "model.compile(loss=\"sparse_categorical_crossentropy\", optimizer=\"nadam\", metrics=[\"accuracy\"])\n",
    "n_epochs = 3\n",
    "history = model.fit(X_train_scaled, y_train, epochs=n_epochs,\n",
    "                    validation_data=(X_valid_scaled, y_valid))"
   ]
  },
  {
   "cell_type": "markdown",
   "metadata": {},
   "source": [
    "## Dropout\n",
    "\n",
    "at every training step, every neuron (including the\n",
    "input neurons, but always excluding the output neurons) has a probability p of \n",
    "being temporarily “dropped out,” meaning it will be entirely ignored during this\n",
    "training step, but it may be active during the next step\n",
    "\n",
    "p: dropout rate, 0.1~0.5\n",
    "- rnn: 0.2~0.3\n",
    "- cnn:0.4~0.5\n",
    "\n",
    ">They also cannot rely excessively on\n",
    "just a few input neurons; they must pay attention to each of their input neurons.\n",
    "They end up being less sensitive to slight changes in the inputs. In the end, you\n",
    "get a more robust network that generalizes better.\n",
    "\n",
    "在实际应用中，dropout会被加在模型的前几层。"
   ]
  },
  {
   "cell_type": "markdown",
   "metadata": {},
   "source": [
    "<img src=pics/dropout.png width=400px>\n",
    "\n",
    "With dropout regularization, at each training iteration a random subset of all\n",
    "neurons in one or more layers—except the output layer—are “dropped out”; these neurons\n",
    "output 0 at this iteration (represented by the dashed arrows)\n",
    "\n",
    "dropout只在训练时有效，观测training loss和validation loss可能具有误导性。所以可以在训练后评估。\n",
    "\n",
    ">Since dropout is only active during training, comparing the training loss and the\n",
    "validation loss can be misleading. In particular, a model may be overfitting the\n",
    "training set and yet have similar training and validation losses. So make sure to\n",
    "evaluate the training loss without dropout (e.g., after training)."
   ]
  },
  {
   "cell_type": "code",
   "execution_count": 132,
   "metadata": {},
   "outputs": [],
   "source": [
    "model = keras.models.Sequential([\n",
    "    keras.layers.Flatten(input_shape=[28, 28]),\n",
    "    keras.layers.Dropout(rate=0.2),\n",
    "    keras.layers.Dense(300, activation=\"elu\", kernel_initializer=\"he_normal\"),\n",
    "    keras.layers.Dropout(rate=0.2),\n",
    "    keras.layers.Dense(100, activation=\"elu\", kernel_initializer=\"he_normal\"),\n",
    "    keras.layers.Dropout(rate=0.2),\n",
    "    keras.layers.Dense(10, activation=\"softmax\")\n",
    "])\n",
    "model.compile(loss=\"sparse_categorical_crossentropy\", optimizer=\"nadam\", metrics=[\"accuracy\"])\n",
    "n_epochs = 3\n",
    "history = model.fit(X_train_scaled, y_train, epochs=n_epochs,\n",
    "                    validation_data=(X_valid_scaled, y_valid))"
   ]
  },
  {
   "cell_type": "code",
   "execution_count": 133,
   "metadata": {},
   "outputs": [
    {
     "name": "stdout",
     "output_type": "stream",
     "text": [
      "Model: \"sequential_36\"\n",
      "_________________________________________________________________\n",
      "Layer (type)                 Output Shape              Param #   \n",
      "=================================================================\n",
      "flatten_35 (Flatten)         (None, 784)               0         \n",
      "_________________________________________________________________\n",
      "dropout_3 (Dropout)          (None, 784)               0         \n",
      "_________________________________________________________________\n",
      "dense_801 (Dense)            (None, 300)               235500    \n",
      "_________________________________________________________________\n",
      "dropout_4 (Dropout)          (None, 300)               0         \n",
      "_________________________________________________________________\n",
      "dense_802 (Dense)            (None, 100)               30100     \n",
      "_________________________________________________________________\n",
      "dropout_5 (Dropout)          (None, 100)               0         \n",
      "_________________________________________________________________\n",
      "dense_803 (Dense)            (None, 10)                1010      \n",
      "=================================================================\n",
      "Total params: 266,610\n",
      "Trainable params: 266,610\n",
      "Non-trainable params: 0\n",
      "_________________________________________________________________\n"
     ]
    }
   ],
   "source": [
    "model.summary()"
   ]
  },
  {
   "cell_type": "markdown",
   "metadata": {},
   "source": [
    "## Alpha Dropout\n",
    "\n",
    "如果用selu作为激活函数，需要用Alpha Dropout。\n",
    "\n",
    ">If you want to regularize a self-normalizing network based on the SELU activation\n",
    "function (as discussed earlier), you should use alpha dropout: this is a variant of\n",
    "dropout that preserves the mean and standard deviation of its inputs (it was\n",
    "introduced in the same paper as SELU, as regular dropout would break selfnormalization)."
   ]
  },
  {
   "cell_type": "code",
   "execution_count": 134,
   "metadata": {},
   "outputs": [
    {
     "name": "stdout",
     "output_type": "stream",
     "text": [
      "Train on 55000 samples, validate on 5000 samples\n",
      "Epoch 1/3\n",
      "55000/55000 [==============================] - 7s 118us/sample - loss: 0.6629 - accuracy: 0.7607 - val_loss: 0.5859 - val_accuracy: 0.8392\n",
      "Epoch 2/3\n",
      "55000/55000 [==============================] - 4s 79us/sample - loss: 0.5565 - accuracy: 0.7967 - val_loss: 0.5341 - val_accuracy: 0.8454\n",
      "Epoch 3/3\n",
      "55000/55000 [==============================] - 5s 83us/sample - loss: 0.5239 - accuracy: 0.8049 - val_loss: 0.5391 - val_accuracy: 0.8506\n"
     ]
    }
   ],
   "source": [
    "tf.random.set_seed(42)\n",
    "np.random.seed(42)\n",
    "\n",
    "model = keras.models.Sequential([\n",
    "    keras.layers.Flatten(input_shape=[28, 28]),\n",
    "    keras.layers.AlphaDropout(rate=0.2),\n",
    "    keras.layers.Dense(300, activation=\"selu\", kernel_initializer=\"lecun_normal\"),\n",
    "    keras.layers.AlphaDropout(rate=0.2),\n",
    "    keras.layers.Dense(100, activation=\"selu\", kernel_initializer=\"lecun_normal\"),\n",
    "    keras.layers.AlphaDropout(rate=0.2),\n",
    "    keras.layers.Dense(10, activation=\"softmax\")\n",
    "])\n",
    "optimizer = keras.optimizers.SGD(lr=0.01, momentum=0.9, nesterov=True)\n",
    "model.compile(loss=\"sparse_categorical_crossentropy\", optimizer=optimizer, metrics=[\"accuracy\"])\n",
    "n_epochs = 3\n",
    "history = model.fit(X_train_scaled, y_train, epochs=n_epochs,\n",
    "                    validation_data=(X_valid_scaled, y_valid))"
   ]
  },
  {
   "cell_type": "code",
   "execution_count": 140,
   "metadata": {},
   "outputs": [
    {
     "name": "stdout",
     "output_type": "stream",
     "text": [
      "10000/1 - 1s - loss: 0.4579 - accuracy: 0.8402\n"
     ]
    },
    {
     "data": {
      "text/plain": [
       "[0.5731361018180847, 0.8402]"
      ]
     },
     "execution_count": 140,
     "metadata": {},
     "output_type": "execute_result"
    }
   ],
   "source": [
    "model.evaluate(X_test_scaled, y_test,verbose=2)"
   ]
  },
  {
   "cell_type": "code",
   "execution_count": 141,
   "metadata": {},
   "outputs": [
    {
     "name": "stdout",
     "output_type": "stream",
     "text": [
      "55000/1 - 3s - loss: 0.3833 - accuracy: 0.8498\n"
     ]
    },
    {
     "data": {
      "text/plain": [
       "[0.5110607008776882, 0.84976363]"
      ]
     },
     "execution_count": 141,
     "metadata": {},
     "output_type": "execute_result"
    }
   ],
   "source": [
    "model.evaluate(X_train_scaled, y_train,verbose=2)"
   ]
  },
  {
   "cell_type": "code",
   "execution_count": 142,
   "metadata": {},
   "outputs": [
    {
     "name": "stdout",
     "output_type": "stream",
     "text": [
      "Train on 55000 samples\n",
      "55000/55000 [==============================] - 6s 104us/sample - loss: 0.5099 - accuracy: 0.8124\n"
     ]
    }
   ],
   "source": [
    "history = model.fit(X_train_scaled, y_train)"
   ]
  },
  {
   "cell_type": "markdown",
   "metadata": {},
   "source": [
    "## MC Dropout\n",
    "\n",
    "Averaging over multiple predictions with dropout on gives us a Monte Carlo\n",
    "estimate that is generally more reliable than the result of a single prediction with\n",
    "dropout off."
   ]
  },
  {
   "cell_type": "code",
   "execution_count": 143,
   "metadata": {},
   "outputs": [
    {
     "name": "stdout",
     "output_type": "stream",
     "text": [
      "WARNING:tensorflow:Layer flatten_36 is casting an input tensor from dtype float64 to the layer's dtype of float32, which is new behavior in TensorFlow 2.  The layer has dtype float32 because it's dtype defaults to floatx.\n",
      "\n",
      "If you intended to run this layer in float32, you can safely ignore this warning. If in doubt, this warning is likely only an issue if you are porting a TensorFlow 1.X model to TensorFlow 2.\n",
      "\n",
      "To change all layers to have dtype float64 by default, call `tf.keras.backend.set_floatx('float64')`. To change just this layer, pass dtype='float64' to the layer constructor. If you are the author of this layer, you can disable autocasting by passing autocast=False to the base Layer constructor.\n",
      "\n"
     ]
    }
   ],
   "source": [
    "tf.random.set_seed(42)\n",
    "np.random.seed(42)\n",
    "\n",
    "y_probas = np.stack([model(X_test_scaled, training=True)\n",
    "                     for sample in range(100)])\n",
    "y_proba = y_probas.mean(axis=0)\n",
    "y_std = y_probas.std(axis=0)"
   ]
  },
  {
   "cell_type": "code",
   "execution_count": 144,
   "metadata": {},
   "outputs": [
    {
     "data": {
      "text/plain": [
       "(100, 10000, 10)"
      ]
     },
     "execution_count": 144,
     "metadata": {},
     "output_type": "execute_result"
    }
   ],
   "source": [
    "y_probas.shape"
   ]
  },
  {
   "cell_type": "code",
   "execution_count": 145,
   "metadata": {},
   "outputs": [],
   "source": [
    "y_pred = np.argmax(y_proba, axis=1)"
   ]
  },
  {
   "cell_type": "code",
   "execution_count": 146,
   "metadata": {},
   "outputs": [
    {
     "data": {
      "text/plain": [
       "0.8459"
      ]
     },
     "execution_count": 146,
     "metadata": {},
     "output_type": "execute_result"
    }
   ],
   "source": [
    "accuracy = np.sum(y_pred == y_test) / len(y_test)\n",
    "accuracy"
   ]
  },
  {
   "cell_type": "markdown",
   "metadata": {},
   "source": [
    "如果模型中有如BN这样的特殊层，需要使用MCDropout。\n",
    "\n",
    "If your model contains other layers that behave in a special way during training\n",
    "(such as `BatchNormalization` layers), then you should not force training mode\n",
    "like we just did. Instead, you should replace the Dropout layers with the\n",
    "following `MCDropout` class:"
   ]
  },
  {
   "cell_type": "code",
   "execution_count": 147,
   "metadata": {},
   "outputs": [],
   "source": [
    "class MCDropout(keras.layers.Dropout):\n",
    "    def call(self, inputs):\n",
    "        return super().call(inputs, training=True)\n",
    "\n",
    "class MCAlphaDropout(keras.layers.AlphaDropout):\n",
    "    def call(self, inputs):\n",
    "        return super().call(inputs, training=True)"
   ]
  },
  {
   "cell_type": "code",
   "execution_count": 148,
   "metadata": {},
   "outputs": [],
   "source": [
    "tf.random.set_seed(42)\n",
    "np.random.seed(42)\n",
    "mc_model = keras.models.Sequential([\n",
    "    MCAlphaDropout(layer.rate) if isinstance(layer, keras.layers.AlphaDropout) else layer\n",
    "    for layer in model.layers\n",
    "])"
   ]
  },
  {
   "cell_type": "code",
   "execution_count": 149,
   "metadata": {},
   "outputs": [
    {
     "name": "stdout",
     "output_type": "stream",
     "text": [
      "Model: \"sequential_38\"\n",
      "_________________________________________________________________\n",
      "Layer (type)                 Output Shape              Param #   \n",
      "=================================================================\n",
      "flatten_36 (Flatten)         (None, 784)               0         \n",
      "_________________________________________________________________\n",
      "mc_alpha_dropout (MCAlphaDro (None, 784)               0         \n",
      "_________________________________________________________________\n",
      "dense_804 (Dense)            (None, 300)               235500    \n",
      "_________________________________________________________________\n",
      "mc_alpha_dropout_1 (MCAlphaD (None, 300)               0         \n",
      "_________________________________________________________________\n",
      "dense_805 (Dense)            (None, 100)               30100     \n",
      "_________________________________________________________________\n",
      "mc_alpha_dropout_2 (MCAlphaD (None, 100)               0         \n",
      "_________________________________________________________________\n",
      "dense_806 (Dense)            (None, 10)                1010      \n",
      "=================================================================\n",
      "Total params: 266,610\n",
      "Trainable params: 266,610\n",
      "Non-trainable params: 0\n",
      "_________________________________________________________________\n"
     ]
    }
   ],
   "source": [
    "mc_model.summary()"
   ]
  },
  {
   "cell_type": "code",
   "execution_count": 150,
   "metadata": {},
   "outputs": [],
   "source": [
    "optimizer = keras.optimizers.SGD(lr=0.01, momentum=0.9, nesterov=True)\n",
    "mc_model.compile(loss=\"sparse_categorical_crossentropy\", optimizer=optimizer, metrics=[\"accuracy\"])"
   ]
  },
  {
   "cell_type": "code",
   "execution_count": 151,
   "metadata": {},
   "outputs": [],
   "source": [
    "mc_model.set_weights(model.get_weights())"
   ]
  },
  {
   "cell_type": "code",
   "execution_count": 152,
   "metadata": {},
   "outputs": [
    {
     "data": {
      "text/plain": [
       "array([[0.  , 0.  , 0.  , 0.  , 0.  , 0.2 , 0.  , 0.22, 0.01, 0.57]],\n",
       "      dtype=float32)"
      ]
     },
     "execution_count": 152,
     "metadata": {},
     "output_type": "execute_result"
    }
   ],
   "source": [
    "# Now we can use the model with MC Dropout:\n",
    "np.round(np.mean([mc_model.predict(X_test_scaled[:1]) for sample in range(100)], axis=0), 2)"
   ]
  },
  {
   "cell_type": "markdown",
   "metadata": {},
   "source": [
    "## Max-Norm Regularization"
   ]
  },
  {
   "cell_type": "markdown",
   "metadata": {},
   "source": [
    "$\\left(\\mathbf{w} \\leftarrow \\mathbf{w} \\frac{r}{\\|\\mathbf{w}\\|_{2}}\\right)$\n",
    "\n",
    "减小r，可以增大正则的程度，减小过拟合。"
   ]
  },
  {
   "cell_type": "code",
   "execution_count": 153,
   "metadata": {},
   "outputs": [],
   "source": [
    "layer = keras.layers.Dense(100, activation=\"selu\", kernel_initializer=\"lecun_normal\",\n",
    "                           kernel_constraint=keras.constraints.max_norm(1.))\n",
    "\n",
    "# max_norm还有一个axis的参数。\n",
    "# 如果是Dense层(weights的shape: [number of inputs, number of neurons])，默认是0即可。\n",
    "# 如果是卷积层，需要自己想清楚axis的设定值。"
   ]
  },
  {
   "cell_type": "code",
   "execution_count": 155,
   "metadata": {},
   "outputs": [
    {
     "name": "stdout",
     "output_type": "stream",
     "text": [
      "Train on 55000 samples, validate on 5000 samples\n",
      "Epoch 1/2\n",
      "55000/55000 [==============================] - 9s 163us/sample - loss: 0.4749 - accuracy: 0.8337 - val_loss: 0.3702 - val_accuracy: 0.8716\n",
      "Epoch 2/2\n",
      "55000/55000 [==============================] - 8s 148us/sample - loss: 0.3569 - accuracy: 0.8701 - val_loss: 0.3719 - val_accuracy: 0.8674\n"
     ]
    }
   ],
   "source": [
    "MaxNormDense = partial(keras.layers.Dense,\n",
    "                       activation=\"selu\", kernel_initializer=\"lecun_normal\",\n",
    "                       kernel_constraint=keras.constraints.max_norm(1.))\n",
    "\n",
    "model = keras.models.Sequential([\n",
    "    keras.layers.Flatten(input_shape=[28, 28]),\n",
    "    MaxNormDense(300),\n",
    "    MaxNormDense(100),\n",
    "    keras.layers.Dense(10, activation=\"softmax\")\n",
    "])\n",
    "model.compile(loss=\"sparse_categorical_crossentropy\", optimizer=\"nadam\", metrics=[\"accuracy\"])\n",
    "n_epochs = 2\n",
    "history = model.fit(X_train_scaled, y_train, epochs=n_epochs,\n",
    "                    validation_data=(X_valid_scaled, y_valid))"
   ]
  },
  {
   "cell_type": "markdown",
   "metadata": {},
   "source": [
    "# Summary and Practical Guidelines"
   ]
  },
  {
   "cell_type": "markdown",
   "metadata": {},
   "source": [
    "<b>Default DNN configuration:</b>\n",
    "\n",
    "Hyperparameter | Default value\n",
    ":---:|:---:\n",
    "Kernel initializer | He initialization\n",
    "Activation function | ELU\n",
    "Normalization | None if shallow; Batch Norm if deep\n",
    "Regularization | Early stopping (+L2 reg. if needed)\n",
    "Optimizer | Momentum optimization (or RMSProp or Nadam)\n",
    "Learning rate schedule | 1cycle\n",
    "\n",
    "如果你的网络是一系列的Dense连接，则它可以self-normalization，可用下面的参数：\n",
    "\n",
    "Hyperparameter | Default value\n",
    ":---:|:---:\n",
    "Kernel initializer | LeCun initialization\n",
    "Activation function | SELU\n",
    "Normalization | None (self-normalization)\n",
    "Regularization | Alpha dropout if needed\n",
    "Optimizer | Momentum optimization (or RMSProp or Nadam)\n",
    "Learning rate schedule | 1cycle"
   ]
  },
  {
   "cell_type": "markdown",
   "metadata": {},
   "source": [
    "- 如果你想得到一个sparse model，可以用L1正则，但这个时候就没法用self-normalization及相关的参数。可以用表一中的Default DNN configuration.\n",
    "\n",
    "- 如果你想要low-latency model，可以少用几层，将BN层放置在前几层，用leaky ReLU 或者 ReLU，降低float特征的精度。\n",
    "\n",
    "- 如果你的目标是一个risk-sensitive的应用，且你在乎延迟，可以用MC Dropout\n"
   ]
  }
 ],
 "metadata": {
  "kernelspec": {
   "display_name": "Python 3",
   "language": "python",
   "name": "python3"
  },
  "language_info": {
   "codemirror_mode": {
    "name": "ipython",
    "version": 3
   },
   "file_extension": ".py",
   "mimetype": "text/x-python",
   "name": "python",
   "nbconvert_exporter": "python",
   "pygments_lexer": "ipython3",
   "version": "3.7.3"
  },
  "nav_menu": {
   "height": "360px",
   "width": "416px"
  },
  "toc": {
   "navigate_menu": true,
   "number_sections": true,
   "sideBar": true,
   "threshold": 6,
   "toc_cell": false,
   "toc_section_display": "block",
   "toc_window_display": false
  }
 },
 "nbformat": 4,
 "nbformat_minor": 1
}
