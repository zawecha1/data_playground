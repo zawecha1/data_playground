{
 "cells": [
  {
   "cell_type": "markdown",
   "metadata": {},
   "source": [
    "https://eastlakeside.gitbook.io/interpy-zh/collections"
   ]
  },
  {
   "cell_type": "code",
   "execution_count": 2,
   "metadata": {},
   "outputs": [],
   "source": [
    "# list\n",
    "from copy import deepcopy"
   ]
  },
  {
   "cell_type": "markdown",
   "metadata": {},
   "source": [
    "# list"
   ]
  },
  {
   "cell_type": "markdown",
   "metadata": {},
   "source": [
    "```python\n",
    "list.append(x)\n",
    "# 在列表的末尾添加一个元素。相当于 a[len(a):] = [x] 。\n",
    "list.extend(iterable)\n",
    "# 使用可迭代对象中的所有元素来扩展列表。相当于 a[len(a):] = iterable 。\n",
    "list.insert(i, x)\n",
    "# 在给定的位置插入一个元素。第一个参数是要插入的元素的索引，\n",
    "# 所以 a.insert(0, x) 插入列表头部， a.insert(len(a), x) 等同于 a.append(x) 。\n",
    "list.remove(x)\n",
    "# 移除列表中第一个值为 x 的元素。如果没有这样的元素，则抛出 ValueError 异常。\n",
    "list.pop([i])\n",
    "# 删除列表中给定位置的元素并返回它。如果没有给定位置，a.pop() 将会删除并返回列表中的最后一个元素。\n",
    "#（方法签名中 i 两边的方括号表示这个参数是可选的，而不是要你输入方括号。Python参考库中经常用这种表示方法)。\n",
    "list.clear()\n",
    "# 删除列表中所有的元素。相当于 del a[:] 。\n",
    "list.index(x[, start[, end]])\n",
    "# 返回列表中第一个值为 x 的元素的从零开始的索引。如果没有这样的元素将会抛出 ValueError 异常。\n",
    "# 可选参数 start 和 end 是切片符号，用于将搜索限制为列表的特定子序列。\n",
    "# 返回的索引是相对于整个序列的开始计算的，而不是 start 参数。\n",
    "list.count(x)\n",
    "# 返回元素 x 在列表中出现的次数。\n",
    "list.sort(key=None, reverse=False)\n",
    "# 对列表中的元素进行排序（参数可用于自定义排序，解释请参见 sorted()）。\n",
    "# 简单的升序排序非常简单：只需调用 sorted() 函数即可。它会返回一个新的已排序列表。\n",
    "# 你也可以使用 list.sort() 方法，它会直接修改原列表（并返回 None 以避免混淆），通常来说它不如 sorted() 方便 ——— 但如果你不需要原列表，它会更有效率。\n",
    "# 另外一个区别是， list.sort() 方法只是为列表定义的，而 sorted() 函数可以接受任何可迭代对象。\n",
    "list.reverse()\n",
    "# 反转列表中的元素。\n",
    "list.copy()\n",
    "# 返回列表的一个浅拷贝。相当于 a[:] 。\n",
    "```"
   ]
  },
  {
   "cell_type": "code",
   "execution_count": 21,
   "metadata": {},
   "outputs": [
    {
     "name": "stdout",
     "output_type": "stream",
     "text": [
      "[1, 2, 3, 4, 5, 6, 6, 6]\n"
     ]
    },
    {
     "data": {
      "text/plain": [
       "3"
      ]
     },
     "execution_count": 21,
     "metadata": {},
     "output_type": "execute_result"
    }
   ],
   "source": [
    "a = [1,2,3,4,5]\n",
    "a.append(6)\n",
    "a.extend([6,6])\n",
    "print(a)\n",
    "a.count(6)"
   ]
  },
  {
   "cell_type": "code",
   "execution_count": 22,
   "metadata": {},
   "outputs": [
    {
     "data": {
      "text/plain": [
       "[6, 6, 6, 5, 4, 3, 2, 1]"
      ]
     },
     "execution_count": 22,
     "metadata": {},
     "output_type": "execute_result"
    }
   ],
   "source": [
    "a.reverse()\n",
    "a"
   ]
  },
  {
   "cell_type": "code",
   "execution_count": 28,
   "metadata": {},
   "outputs": [
    {
     "name": "stdout",
     "output_type": "stream",
     "text": [
      "==================================================\n",
      "copy vs deepcopy - 1\n",
      "==================================================\n",
      "before-b [1, 2, 4, 5, 6, 7, 8, 3, ['a', 'b']]\n",
      "after-b [1, 2, 4, 5, 6, 7, 8, 3, ['a', 'b', '666']]\n",
      "after-a [1, 2, 4, 5, 6, 7, 8, 3, ['a', 'b', '666']]\n",
      "==================================================\n",
      "copy vs deepcopy - 2\n",
      "==================================================\n",
      "before-b [1, 2, 4, 5, 6, 7, 8, 3, ['a', 'b']]\n",
      "after-b [1, 2, 4, 5, 6, 7, 8, 3, ['a', 'b'], '666']\n",
      "after-a [1, 2, 4, 5, 6, 7, 8, 3, ['a', 'b']]\n",
      "==================================================\n",
      "copy vs deepcopy - 3\n",
      "==================================================\n",
      "before-b [1, 2, 4, 5, 6, 7, 8, 3, ['a', 'b']]\n",
      "after-b [1, 2, 4, 5, 6, 7, 8, 3, ['a', 'b', '666']]\n",
      "after-a [1, 2, 4, 5, 6, 7, 8, 3, ['a', 'b']]\n"
     ]
    }
   ],
   "source": [
    "# copy vs deepcopy - 1\n",
    "print(\"=\"*50)\n",
    "print(\"copy vs deepcopy - 1\")\n",
    "print(\"=\"*50)\n",
    "a = [1,2,4,5,6,7,8,3,['a','b']]\n",
    "b = a.copy()\n",
    "print(\"before-b\",b)\n",
    "b[-1].append('666')\n",
    "print(\"after-b\",b)\n",
    "print(\"after-a\",a)\n",
    "# copy vs deepcopy - 2\n",
    "print(\"=\"*50)\n",
    "print(\"copy vs deepcopy - 2\")\n",
    "print(\"=\"*50)\n",
    "a = [1,2,4,5,6,7,8,3,['a','b']]\n",
    "b = a.copy()\n",
    "print(\"before-b\",b)\n",
    "b.append('666')\n",
    "print(\"after-b\",b)\n",
    "print(\"after-a\",a)\n",
    "# copy vs deepcopy - 3\n",
    "print(\"=\"*50)\n",
    "print(\"copy vs deepcopy - 3\")\n",
    "print(\"=\"*50)\n",
    "a = [1,2,4,5,6,7,8,3,['a','b']]\n",
    "b = deepcopy(a)\n",
    "print(\"before-b\",b)\n",
    "b[-1].append('666')\n",
    "print(\"after-b\",b)\n",
    "print(\"after-a\",a)"
   ]
  },
  {
   "cell_type": "markdown",
   "metadata": {},
   "source": [
    "# tuple"
   ]
  },
  {
   "cell_type": "code",
   "execution_count": null,
   "metadata": {},
   "outputs": [],
   "source": [
    "# 是不可变对象"
   ]
  },
  {
   "cell_type": "markdown",
   "metadata": {},
   "source": [
    "# set"
   ]
  },
  {
   "cell_type": "code",
   "execution_count": 30,
   "metadata": {},
   "outputs": [
    {
     "name": "stdout",
     "output_type": "stream",
     "text": [
      "{3}\n",
      "{1, 2} {4, 5}\n",
      "{1, 2, 3, 4, 5}\n",
      "{1, 2, 4, 5}\n"
     ]
    }
   ],
   "source": [
    "a = {1,2,3}\n",
    "b = {3,4,5}\n",
    "\n",
    "# 交集\n",
    "c = a.intersection(b)\n",
    "print(c)\n",
    "# {3}\n",
    "\n",
    "# 差集\n",
    "c1 = a.difference(b)\n",
    "c2 = b.difference(a)\n",
    "print(c1,c2)\n",
    "# {1, 2} {4, 5}\n",
    "\n",
    "# 并集\n",
    "c = a.union(b)\n",
    "print(c)\n",
    "# {1, 2, 3, 4, 5}\n",
    "\n",
    "# 对称差集\n",
    "c = a.symmetric_difference(b)\n",
    "print(c)\n",
    "# {1, 2, 4, 5}"
   ]
  },
  {
   "cell_type": "markdown",
   "metadata": {},
   "source": [
    "# dict"
   ]
  },
  {
   "cell_type": "code",
   "execution_count": 35,
   "metadata": {},
   "outputs": [
    {
     "name": "stdout",
     "output_type": "stream",
     "text": [
      "True\n",
      "True\n",
      "False\n"
     ]
    }
   ],
   "source": [
    "print({'a': 1, 'g': 1} == {'g': 1, 'a': 1}) # True\n",
    "print(set((1,2,3))  == set((3,2,1))) # True\n",
    "print([1,2,3]  == [3,2,1]) # False"
   ]
  },
  {
   "cell_type": "markdown",
   "metadata": {},
   "source": [
    "* [python-数据结构](https://docs.python.org/zh-cn/3/tutorial/datastructures.html#id2)\n",
    "\n",
    "* [dict排序](https://www.geeksforgeeks.org/python-sort-python-dictionaries-by-key-or-value/)"
   ]
  },
  {
   "cell_type": "code",
   "execution_count": null,
   "metadata": {},
   "outputs": [],
   "source": []
  }
 ],
 "metadata": {
  "kernelspec": {
   "display_name": "Python 3",
   "language": "python",
   "name": "python3"
  },
  "language_info": {
   "codemirror_mode": {
    "name": "ipython",
    "version": 3
   },
   "file_extension": ".py",
   "mimetype": "text/x-python",
   "name": "python",
   "nbconvert_exporter": "python",
   "pygments_lexer": "ipython3",
   "version": "3.7.3"
  }
 },
 "nbformat": 4,
 "nbformat_minor": 2
}
