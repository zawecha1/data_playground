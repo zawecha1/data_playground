{
 "cells": [
  {
   "cell_type": "code",
   "execution_count": 1,
   "metadata": {},
   "outputs": [],
   "source": [
    "class Student(object):\n",
    "    pass"
   ]
  },
  {
   "cell_type": "code",
   "execution_count": 2,
   "metadata": {},
   "outputs": [
    {
     "data": {
      "text/plain": [
       "['__class__',\n",
       " '__delattr__',\n",
       " '__dict__',\n",
       " '__dir__',\n",
       " '__doc__',\n",
       " '__eq__',\n",
       " '__format__',\n",
       " '__ge__',\n",
       " '__getattribute__',\n",
       " '__gt__',\n",
       " '__hash__',\n",
       " '__init__',\n",
       " '__init_subclass__',\n",
       " '__le__',\n",
       " '__lt__',\n",
       " '__module__',\n",
       " '__ne__',\n",
       " '__new__',\n",
       " '__reduce__',\n",
       " '__reduce_ex__',\n",
       " '__repr__',\n",
       " '__setattr__',\n",
       " '__sizeof__',\n",
       " '__str__',\n",
       " '__subclasshook__',\n",
       " '__weakref__']"
      ]
     },
     "execution_count": 2,
     "metadata": {},
     "output_type": "execute_result"
    }
   ],
   "source": [
    "dir(Student)"
   ]
  },
  {
   "cell_type": "code",
   "execution_count": 17,
   "metadata": {},
   "outputs": [],
   "source": [
    "class Employee(object):\n",
    "    def __init__(self, name, salary):\n",
    "        self.name = name\n",
    "        self.salary = salary \n",
    "    def __new__(cls, name, salary):\n",
    "        if 0 < salary < 10000:\n",
    "            return object.__new__(cls)\n",
    "        else:\n",
    "            return None\n",
    "    def __str__(self):\n",
    "        return '{0}({1})'.format(self.__class__.__name__, self.__dict__)\n",
    "    def __repr__(self):\n",
    "        return self.__str__()\n",
    "        "
   ]
  },
  {
   "cell_type": "code",
   "execution_count": 18,
   "metadata": {
    "scrolled": true
   },
   "outputs": [
    {
     "data": {
      "text/plain": [
       "Employee({'name': 'Tom', 'salary': 8000})"
      ]
     },
     "execution_count": 18,
     "metadata": {},
     "output_type": "execute_result"
    }
   ],
   "source": [
    "emp_tom = Employee('Tom', 8000)\n",
    "emp_tom"
   ]
  },
  {
   "cell_type": "code",
   "execution_count": 20,
   "metadata": {},
   "outputs": [
    {
     "name": "stdout",
     "output_type": "stream",
     "text": [
      "None\n"
     ]
    }
   ],
   "source": [
    "emp_richard = Employee('Richard', 20000)\n",
    "print(emp_richard)"
   ]
  },
  {
   "cell_type": "code",
   "execution_count": 34,
   "metadata": {
    "scrolled": true
   },
   "outputs": [
    {
     "name": "stdout",
     "output_type": "stream",
     "text": [
      "__new__\n",
      "<__main__.TestClass object at 0x1107bd2e8>\n",
      "__init__\n",
      "<__main__.TestClass object at 0x1107bd2e8>\n"
     ]
    }
   ],
   "source": [
    "class TestClass(object):\n",
    "    def __init__(self):\n",
    "        print(\"__init__\")\n",
    "        print(self)\n",
    "        super(TestClass, self).__init__()\n",
    "\n",
    "    def __new__(cls):\n",
    "        print(\"__new__\")\n",
    "        self = super(TestClass, cls).__new__(cls)\n",
    "        print(self)\n",
    "        return self\n",
    "\n",
    "    def __call__(self): \n",
    "        print(self)\n",
    "        print('__call__')\n",
    "\n",
    "tc = TestClass()"
   ]
  },
  {
   "cell_type": "markdown",
   "metadata": {},
   "source": [
    "如果 `__new__` 方法不返回值（`None`）那么 `__init__` 将不会得到调用，因为实例对象都没创建出来。\\\n",
    "Python 还规定，`__init__` 只能返回 `None` 值"
   ]
  },
  {
   "cell_type": "code",
   "execution_count": 37,
   "metadata": {},
   "outputs": [
    {
     "name": "stdout",
     "output_type": "stream",
     "text": [
      "True\n",
      "<__main__.TestClass object at 0x1107bd2e8>\n",
      "__call__\n"
     ]
    }
   ],
   "source": [
    "print(callable(tc))\n",
    "tc() # callable\n",
    "# 实例可以直接调用。\n",
    "# 类可以记录数据（属性），而函数不行（闭包某种意义上也可行），利用这种特性可以实现基于类的装饰器，在类里面记录状态。"
   ]
  },
  {
   "cell_type": "code",
   "execution_count": 47,
   "metadata": {},
   "outputs": [
    {
     "name": "stdout",
     "output_type": "stream",
     "text": [
      "num of calls is: 1\n",
      "hello world\n",
      "num of calls is: 2\n",
      "hello world\n",
      "num of calls is: 3\n",
      "hello world\n"
     ]
    },
    {
     "data": {
      "text/plain": [
       "3"
      ]
     },
     "execution_count": 47,
     "metadata": {},
     "output_type": "execute_result"
    }
   ],
   "source": [
    "import functools\n",
    "\n",
    "class Count:\n",
    "    def __init__(self, func):\n",
    "        self.func = func\n",
    "        self.num_calls = 0\n",
    "        functools.update_wrapper(self, func) # 类似于函数方法中的：@functools.wraps(func)\n",
    "\n",
    "    def __call__(self, *args, **kwargs):\n",
    "        self.num_calls += 1\n",
    "        print('num of calls is: {}'.format(self.num_calls))\n",
    "        return self.func(*args, **kwargs)\n",
    "\n",
    "@Count\n",
    "def hello():\n",
    "    print(\"hello world\")\n",
    "\n",
    "hello()\n",
    "hello()\n",
    "hello()\n",
    "\n",
    "hello.num_calls"
   ]
  },
  {
   "cell_type": "code",
   "execution_count": null,
   "metadata": {},
   "outputs": [],
   "source": []
  },
  {
   "cell_type": "code",
   "execution_count": null,
   "metadata": {},
   "outputs": [],
   "source": []
  }
 ],
 "metadata": {
  "kernelspec": {
   "display_name": "Python 3",
   "language": "python",
   "name": "python3"
  },
  "language_info": {
   "codemirror_mode": {
    "name": "ipython",
    "version": 3
   },
   "file_extension": ".py",
   "mimetype": "text/x-python",
   "name": "python",
   "nbconvert_exporter": "python",
   "pygments_lexer": "ipython3",
   "version": "3.7.3"
  }
 },
 "nbformat": 4,
 "nbformat_minor": 2
}
